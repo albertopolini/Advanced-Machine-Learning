{
  "nbformat": 4,
  "nbformat_minor": 0,
  "metadata": {
    "colab": {
      "name": "Convolutional Neural Networks.ipynb",
      "provenance": [],
      "authorship_tag": "ABX9TyNPCHFtOdiTS2gyRvkDw8KP",
      "include_colab_link": true
    },
    "kernelspec": {
      "name": "python3",
      "display_name": "Python 3"
    },
    "language_info": {
      "name": "python"
    },
    "accelerator": "GPU"
  },
  "cells": [
    {
      "cell_type": "markdown",
      "metadata": {
        "id": "view-in-github",
        "colab_type": "text"
      },
      "source": [
        "<a href=\"https://colab.research.google.com/github/albertopolini/Advanced-Machine-Learning/blob/main/Convolutional_Neural_Networks.ipynb\" target=\"_parent\"><img src=\"https://colab.research.google.com/assets/colab-badge.svg\" alt=\"Open In Colab\"/></a>"
      ]
    },
    {
      "cell_type": "code",
      "metadata": {
        "id": "1PG7ffsDZrLO"
      },
      "source": [
        "import tensorflow\n",
        "from  tensorflow import keras\n",
        "from tensorflow.keras import layers\n",
        "import numpy as np\n",
        "import pandas as pd"
      ],
      "execution_count": 14,
      "outputs": []
    },
    {
      "cell_type": "code",
      "metadata": {
        "id": "yy1NtLXEaLzy"
      },
      "source": [
        "# Write a model with 6000 parameters at maximum"
      ],
      "execution_count": 2,
      "outputs": []
    },
    {
      "cell_type": "code",
      "metadata": {
        "id": "OnXoZma0ahdg"
      },
      "source": [
        "num_classes = 10\n",
        "input_shape = (28,28,1)"
      ],
      "execution_count": 15,
      "outputs": []
    },
    {
      "cell_type": "code",
      "metadata": {
        "id": "1QtOWP5rbkXI"
      },
      "source": [
        "(x_train, y_train), (x_test, y_test) = keras.datasets.mnist.load_data()"
      ],
      "execution_count": 16,
      "outputs": []
    },
    {
      "cell_type": "code",
      "metadata": {
        "id": "CRSV9wOGc-QG"
      },
      "source": [
        "# Scale images in [0,1]\n",
        "\n",
        "x_train = x_train.astype('float32') / 255\n",
        "x_test = x_test.astype('float32') / 255"
      ],
      "execution_count": 18,
      "outputs": []
    },
    {
      "cell_type": "code",
      "metadata": {
        "colab": {
          "base_uri": "https://localhost:8080/"
        },
        "id": "BKW34SE3dUDG",
        "outputId": "c858b5ab-222f-470e-dc51-5978b83bc623"
      },
      "source": [
        "# images 28x28\n",
        "\n",
        "x_train = np.expand_dims(x_train, -1)\n",
        "x_test = np.expand_dims(x_test, -1)\n",
        "\n",
        "print(x_train.shape)"
      ],
      "execution_count": 19,
      "outputs": [
        {
          "output_type": "stream",
          "name": "stdout",
          "text": [
            "(60000, 28, 28, 1)\n"
          ]
        }
      ]
    },
    {
      "cell_type": "code",
      "metadata": {
        "id": "jIuvSkondzHp"
      },
      "source": [
        "# Convert class vectors to binary class matrices\n",
        "\n",
        "y_train = keras.utils.to_categorical(y_train, num_classes=num_classes)\n",
        "y_test = keras.utils.to_categorical(y_test, num_classes=num_classes)"
      ],
      "execution_count": 20,
      "outputs": []
    },
    {
      "cell_type": "code",
      "metadata": {
        "colab": {
          "base_uri": "https://localhost:8080/"
        },
        "id": "41lPWkBseO0B",
        "outputId": "ba83e7b6-59bd-4299-bfe4-b48ec3a0a27b"
      },
      "source": [
        "y_train"
      ],
      "execution_count": 21,
      "outputs": [
        {
          "output_type": "execute_result",
          "data": {
            "text/plain": [
              "array([[0., 0., 0., ..., 0., 0., 0.],\n",
              "       [1., 0., 0., ..., 0., 0., 0.],\n",
              "       [0., 0., 0., ..., 0., 0., 0.],\n",
              "       ...,\n",
              "       [0., 0., 0., ..., 0., 0., 0.],\n",
              "       [0., 0., 0., ..., 0., 0., 0.],\n",
              "       [0., 0., 0., ..., 0., 1., 0.]], dtype=float32)"
            ]
          },
          "metadata": {},
          "execution_count": 21
        }
      ]
    },
    {
      "cell_type": "code",
      "metadata": {
        "colab": {
          "base_uri": "https://localhost:8080/"
        },
        "id": "zFd8_tK3eUQr",
        "outputId": "31814272-5340-4b68-ca5a-f492459e47da"
      },
      "source": [
        "model = keras.Sequential(\n",
        "    \n",
        "  [\n",
        "   keras.Input(shape=input_shape),\n",
        "   layers.Conv2D(32, kernel_size=(3,3), activation='relu'),\n",
        "   layers.MaxPooling2D(pool_size=(2,2)),\n",
        "   layers.Conv2D(64, kernel_size=(3,3), activation='relu'),\n",
        "   layers.MaxPooling2D(pool_size=(2,2)),\n",
        "\n",
        "   layers.Flatten(),\n",
        "   layers.Dropout(0.5),\n",
        "   layers.Dense(num_classes, activation='softmax'),\n",
        "\n",
        "  ]\n",
        "\n",
        ")\n",
        "\n",
        "\n",
        "model.summary()"
      ],
      "execution_count": 28,
      "outputs": [
        {
          "output_type": "stream",
          "name": "stdout",
          "text": [
            "Model: \"sequential_1\"\n",
            "_________________________________________________________________\n",
            " Layer (type)                Output Shape              Param #   \n",
            "=================================================================\n",
            " conv2d_2 (Conv2D)           (None, 26, 26, 32)        320       \n",
            "                                                                 \n",
            " max_pooling2d_2 (MaxPooling  (None, 13, 13, 32)       0         \n",
            " 2D)                                                             \n",
            "                                                                 \n",
            " conv2d_3 (Conv2D)           (None, 11, 11, 64)        18496     \n",
            "                                                                 \n",
            " max_pooling2d_3 (MaxPooling  (None, 5, 5, 64)         0         \n",
            " 2D)                                                             \n",
            "                                                                 \n",
            " flatten_1 (Flatten)         (None, 1600)              0         \n",
            "                                                                 \n",
            " dropout_1 (Dropout)         (None, 1600)              0         \n",
            "                                                                 \n",
            " dense_1 (Dense)             (None, 10)                16010     \n",
            "                                                                 \n",
            "=================================================================\n",
            "Total params: 34,826\n",
            "Trainable params: 34,826\n",
            "Non-trainable params: 0\n",
            "_________________________________________________________________\n"
          ]
        }
      ]
    },
    {
      "cell_type": "code",
      "metadata": {
        "colab": {
          "base_uri": "https://localhost:8080/"
        },
        "id": "yKa3bMprgO4f",
        "outputId": "8eb87aed-d4f4-4f6c-d6f3-7e324d4e7cd1"
      },
      "source": [
        "model.compile(optimizer='adam', loss='categorical_crossentropy', metrics=['accuracy'])\n",
        "\n",
        "num_epochs=5\n",
        "batch_size=128\n",
        "\n",
        "history = model.fit(x_train, y_train, batch_size=batch_size, epochs=num_epochs,validation_split=0.1)\n",
        "\n",
        "score = model.evaluate(x_test, y_test, verbose=0)\n",
        "\n",
        "print(\"Test loss: \", score[0])\n",
        "print(\"Test accuracy: \", score[1])"
      ],
      "execution_count": 29,
      "outputs": [
        {
          "output_type": "stream",
          "name": "stdout",
          "text": [
            "Epoch 1/5\n",
            "422/422 [==============================] - 5s 11ms/step - loss: 0.3776 - accuracy: 0.8864 - val_loss: 0.0830 - val_accuracy: 0.9768\n",
            "Epoch 2/5\n",
            "422/422 [==============================] - 4s 11ms/step - loss: 0.1145 - accuracy: 0.9646 - val_loss: 0.0585 - val_accuracy: 0.9837\n",
            "Epoch 3/5\n",
            "422/422 [==============================] - 4s 10ms/step - loss: 0.0844 - accuracy: 0.9735 - val_loss: 0.0481 - val_accuracy: 0.9887\n",
            "Epoch 4/5\n",
            "422/422 [==============================] - 4s 10ms/step - loss: 0.0713 - accuracy: 0.9780 - val_loss: 0.0450 - val_accuracy: 0.9878\n",
            "Epoch 5/5\n",
            "422/422 [==============================] - 4s 10ms/step - loss: 0.0622 - accuracy: 0.9810 - val_loss: 0.0371 - val_accuracy: 0.9910\n",
            "Test loss:  0.03741159290075302\n",
            "Test accuracy:  0.9878000020980835\n"
          ]
        }
      ]
    },
    {
      "cell_type": "code",
      "metadata": {
        "id": "Jcps1Si4g-mU"
      },
      "source": [
        "# The lowest number of parameters that we can use for this task is 20"
      ],
      "execution_count": 30,
      "outputs": []
    },
    {
      "cell_type": "code",
      "metadata": {
        "id": "-evbN0hJilmk"
      },
      "source": [
        ""
      ],
      "execution_count": null,
      "outputs": []
    }
  ]
}