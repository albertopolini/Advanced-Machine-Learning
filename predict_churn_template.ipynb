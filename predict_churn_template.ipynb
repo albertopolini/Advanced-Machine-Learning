{
  "nbformat": 4,
  "nbformat_minor": 0,
  "metadata": {
    "kernelspec": {
      "display_name": "Python 3",
      "language": "python",
      "name": "python3"
    },
    "language_info": {
      "codemirror_mode": {
        "name": "ipython",
        "version": 3
      },
      "file_extension": ".py",
      "mimetype": "text/x-python",
      "name": "python",
      "nbconvert_exporter": "python",
      "pygments_lexer": "ipython3",
      "version": "3.6.4"
    },
    "colab": {
      "name": "predict_churn_template.ipynb",
      "provenance": [],
      "collapsed_sections": [],
      "include_colab_link": true
    },
    "accelerator": "GPU"
  },
  "cells": [
    {
      "cell_type": "markdown",
      "metadata": {
        "id": "view-in-github",
        "colab_type": "text"
      },
      "source": [
        "<a href=\"https://colab.research.google.com/github/albertopolini/Advanced-Machine-Learning/blob/main/predict_churn_template.ipynb\" target=\"_parent\"><img src=\"https://colab.research.google.com/assets/colab-badge.svg\" alt=\"Open In Colab\"/></a>"
      ]
    },
    {
      "cell_type": "code",
      "metadata": {
        "id": "YprDUMHtJOi-"
      },
      "source": [
        "%matplotlib inline\n",
        "import numpy as np\n",
        "import pandas as pd\n",
        "\n",
        "#preprocessing ops\n",
        "from sklearn import datasets\n",
        "from sklearn.model_selection import train_test_split\n",
        "from sklearn import preprocessing\n"
      ],
      "execution_count": 1,
      "outputs": []
    },
    {
      "cell_type": "code",
      "metadata": {
        "id": "1rRCZtJ7JOjF"
      },
      "source": [
        "# DL ops\n",
        "import tensorflow\n",
        "from keras.models import Sequential\n",
        "#just import some random layers to showcase -- won't use them all\n",
        "from keras.layers.core import Dense, Dropout, Activation, Flatten\n",
        "from keras.layers.noise import GaussianNoise\n",
        "from keras.layers.advanced_activations import PReLU\n",
        "from keras.utils import np_utils"
      ],
      "execution_count": 2,
      "outputs": []
    },
    {
      "cell_type": "markdown",
      "metadata": {
        "id": "UArZtXzRJOjI"
      },
      "source": [
        "# Context\n",
        "\"Predict behavior to retain customers. You can analyze all relevant customer data and develop focused customer retention programs.\" [IBM Sample Data Sets]\n",
        "\n",
        "# Content\n",
        "Each row represents a customer, each column contains customer’s attributes described on the column Metadata.\n",
        "\n",
        "The data set includes information about:\n",
        "\n",
        "- Customers who left within the last month – the column is called Churn\n",
        "- Services that each customer has signed up for – phone, multiple lines, internet, online security, online backup, device protection, tech support, and streaming TV and movies\n",
        "- Customer account information – how long they’ve been a customer, contract, payment method, paperless billing, monthly charges, and total charges\n",
        "- Demographic info about customers – gender, age range, and if they have partners and dependents"
      ]
    },
    {
      "cell_type": "code",
      "metadata": {
        "id": "DnJUG5sXJOjJ"
      },
      "source": [
        "columns = [\n",
        "    'state',\n",
        "    'account length', \n",
        "    'area code', \n",
        "    'phone number', \n",
        "    'international plan', \n",
        "    'voice mail plan', \n",
        "    'number vmail messages',\n",
        "    'total day minutes',\n",
        "    'total day calls',\n",
        "    'total day charge',\n",
        "    'total eve minutes',\n",
        "    'total eve calls',\n",
        "    'total eve charge',\n",
        "    'total night minutes',\n",
        "    'total night calls',\n",
        "    'total night charge',\n",
        "    'total intl minutes',\n",
        "    'total intl calls',\n",
        "    'total intl charge',\n",
        "    'number customer service calls',\n",
        "    'churn']\n"
      ],
      "execution_count": 3,
      "outputs": []
    },
    {
      "cell_type": "code",
      "metadata": {
        "id": "r9CpN6cAMJGi",
        "colab": {
          "base_uri": "https://localhost:8080/",
          "height": 635
        },
        "outputId": "8ffdbb03-0bf2-4998-8475-6cbb54e8900c"
      },
      "source": [
        "df = pd.read_csv('churn.data.txt', header=None, names=columns)\n",
        "df"
      ],
      "execution_count": 7,
      "outputs": [
        {
          "output_type": "execute_result",
          "data": {
            "text/html": [
              "<div>\n",
              "<style scoped>\n",
              "    .dataframe tbody tr th:only-of-type {\n",
              "        vertical-align: middle;\n",
              "    }\n",
              "\n",
              "    .dataframe tbody tr th {\n",
              "        vertical-align: top;\n",
              "    }\n",
              "\n",
              "    .dataframe thead th {\n",
              "        text-align: right;\n",
              "    }\n",
              "</style>\n",
              "<table border=\"1\" class=\"dataframe\">\n",
              "  <thead>\n",
              "    <tr style=\"text-align: right;\">\n",
              "      <th></th>\n",
              "      <th>state</th>\n",
              "      <th>account length</th>\n",
              "      <th>area code</th>\n",
              "      <th>phone number</th>\n",
              "      <th>international plan</th>\n",
              "      <th>voice mail plan</th>\n",
              "      <th>number vmail messages</th>\n",
              "      <th>total day minutes</th>\n",
              "      <th>total day calls</th>\n",
              "      <th>total day charge</th>\n",
              "      <th>total eve minutes</th>\n",
              "      <th>total eve calls</th>\n",
              "      <th>total eve charge</th>\n",
              "      <th>total night minutes</th>\n",
              "      <th>total night calls</th>\n",
              "      <th>total night charge</th>\n",
              "      <th>total intl minutes</th>\n",
              "      <th>total intl calls</th>\n",
              "      <th>total intl charge</th>\n",
              "      <th>number customer service calls</th>\n",
              "      <th>churn</th>\n",
              "    </tr>\n",
              "  </thead>\n",
              "  <tbody>\n",
              "    <tr>\n",
              "      <th>0</th>\n",
              "      <td>KS</td>\n",
              "      <td>128</td>\n",
              "      <td>415</td>\n",
              "      <td>382-4657</td>\n",
              "      <td>no</td>\n",
              "      <td>yes</td>\n",
              "      <td>25</td>\n",
              "      <td>265.1</td>\n",
              "      <td>110</td>\n",
              "      <td>45.07</td>\n",
              "      <td>197.4</td>\n",
              "      <td>99</td>\n",
              "      <td>16.78</td>\n",
              "      <td>244.7</td>\n",
              "      <td>91</td>\n",
              "      <td>11.01</td>\n",
              "      <td>10.0</td>\n",
              "      <td>3</td>\n",
              "      <td>2.70</td>\n",
              "      <td>1</td>\n",
              "      <td>False.</td>\n",
              "    </tr>\n",
              "    <tr>\n",
              "      <th>1</th>\n",
              "      <td>OH</td>\n",
              "      <td>107</td>\n",
              "      <td>415</td>\n",
              "      <td>371-7191</td>\n",
              "      <td>no</td>\n",
              "      <td>yes</td>\n",
              "      <td>26</td>\n",
              "      <td>161.6</td>\n",
              "      <td>123</td>\n",
              "      <td>27.47</td>\n",
              "      <td>195.5</td>\n",
              "      <td>103</td>\n",
              "      <td>16.62</td>\n",
              "      <td>254.4</td>\n",
              "      <td>103</td>\n",
              "      <td>11.45</td>\n",
              "      <td>13.7</td>\n",
              "      <td>3</td>\n",
              "      <td>3.70</td>\n",
              "      <td>1</td>\n",
              "      <td>False.</td>\n",
              "    </tr>\n",
              "    <tr>\n",
              "      <th>2</th>\n",
              "      <td>NJ</td>\n",
              "      <td>137</td>\n",
              "      <td>415</td>\n",
              "      <td>358-1921</td>\n",
              "      <td>no</td>\n",
              "      <td>no</td>\n",
              "      <td>0</td>\n",
              "      <td>243.4</td>\n",
              "      <td>114</td>\n",
              "      <td>41.38</td>\n",
              "      <td>121.2</td>\n",
              "      <td>110</td>\n",
              "      <td>10.30</td>\n",
              "      <td>162.6</td>\n",
              "      <td>104</td>\n",
              "      <td>7.32</td>\n",
              "      <td>12.2</td>\n",
              "      <td>5</td>\n",
              "      <td>3.29</td>\n",
              "      <td>0</td>\n",
              "      <td>False.</td>\n",
              "    </tr>\n",
              "    <tr>\n",
              "      <th>3</th>\n",
              "      <td>OH</td>\n",
              "      <td>84</td>\n",
              "      <td>408</td>\n",
              "      <td>375-9999</td>\n",
              "      <td>yes</td>\n",
              "      <td>no</td>\n",
              "      <td>0</td>\n",
              "      <td>299.4</td>\n",
              "      <td>71</td>\n",
              "      <td>50.90</td>\n",
              "      <td>61.9</td>\n",
              "      <td>88</td>\n",
              "      <td>5.26</td>\n",
              "      <td>196.9</td>\n",
              "      <td>89</td>\n",
              "      <td>8.86</td>\n",
              "      <td>6.6</td>\n",
              "      <td>7</td>\n",
              "      <td>1.78</td>\n",
              "      <td>2</td>\n",
              "      <td>False.</td>\n",
              "    </tr>\n",
              "    <tr>\n",
              "      <th>4</th>\n",
              "      <td>OK</td>\n",
              "      <td>75</td>\n",
              "      <td>415</td>\n",
              "      <td>330-6626</td>\n",
              "      <td>yes</td>\n",
              "      <td>no</td>\n",
              "      <td>0</td>\n",
              "      <td>166.7</td>\n",
              "      <td>113</td>\n",
              "      <td>28.34</td>\n",
              "      <td>148.3</td>\n",
              "      <td>122</td>\n",
              "      <td>12.61</td>\n",
              "      <td>186.9</td>\n",
              "      <td>121</td>\n",
              "      <td>8.41</td>\n",
              "      <td>10.1</td>\n",
              "      <td>3</td>\n",
              "      <td>2.73</td>\n",
              "      <td>3</td>\n",
              "      <td>False.</td>\n",
              "    </tr>\n",
              "    <tr>\n",
              "      <th>...</th>\n",
              "      <td>...</td>\n",
              "      <td>...</td>\n",
              "      <td>...</td>\n",
              "      <td>...</td>\n",
              "      <td>...</td>\n",
              "      <td>...</td>\n",
              "      <td>...</td>\n",
              "      <td>...</td>\n",
              "      <td>...</td>\n",
              "      <td>...</td>\n",
              "      <td>...</td>\n",
              "      <td>...</td>\n",
              "      <td>...</td>\n",
              "      <td>...</td>\n",
              "      <td>...</td>\n",
              "      <td>...</td>\n",
              "      <td>...</td>\n",
              "      <td>...</td>\n",
              "      <td>...</td>\n",
              "      <td>...</td>\n",
              "      <td>...</td>\n",
              "    </tr>\n",
              "    <tr>\n",
              "      <th>3328</th>\n",
              "      <td>AZ</td>\n",
              "      <td>192</td>\n",
              "      <td>415</td>\n",
              "      <td>414-4276</td>\n",
              "      <td>no</td>\n",
              "      <td>yes</td>\n",
              "      <td>36</td>\n",
              "      <td>156.2</td>\n",
              "      <td>77</td>\n",
              "      <td>26.55</td>\n",
              "      <td>215.5</td>\n",
              "      <td>126</td>\n",
              "      <td>18.32</td>\n",
              "      <td>279.1</td>\n",
              "      <td>83</td>\n",
              "      <td>12.56</td>\n",
              "      <td>9.9</td>\n",
              "      <td>6</td>\n",
              "      <td>2.67</td>\n",
              "      <td>2</td>\n",
              "      <td>False.</td>\n",
              "    </tr>\n",
              "    <tr>\n",
              "      <th>3329</th>\n",
              "      <td>WV</td>\n",
              "      <td>68</td>\n",
              "      <td>415</td>\n",
              "      <td>370-3271</td>\n",
              "      <td>no</td>\n",
              "      <td>no</td>\n",
              "      <td>0</td>\n",
              "      <td>231.1</td>\n",
              "      <td>57</td>\n",
              "      <td>39.29</td>\n",
              "      <td>153.4</td>\n",
              "      <td>55</td>\n",
              "      <td>13.04</td>\n",
              "      <td>191.3</td>\n",
              "      <td>123</td>\n",
              "      <td>8.61</td>\n",
              "      <td>9.6</td>\n",
              "      <td>4</td>\n",
              "      <td>2.59</td>\n",
              "      <td>3</td>\n",
              "      <td>False.</td>\n",
              "    </tr>\n",
              "    <tr>\n",
              "      <th>3330</th>\n",
              "      <td>RI</td>\n",
              "      <td>28</td>\n",
              "      <td>510</td>\n",
              "      <td>328-8230</td>\n",
              "      <td>no</td>\n",
              "      <td>no</td>\n",
              "      <td>0</td>\n",
              "      <td>180.8</td>\n",
              "      <td>109</td>\n",
              "      <td>30.74</td>\n",
              "      <td>288.8</td>\n",
              "      <td>58</td>\n",
              "      <td>24.55</td>\n",
              "      <td>191.9</td>\n",
              "      <td>91</td>\n",
              "      <td>8.64</td>\n",
              "      <td>14.1</td>\n",
              "      <td>6</td>\n",
              "      <td>3.81</td>\n",
              "      <td>2</td>\n",
              "      <td>False.</td>\n",
              "    </tr>\n",
              "    <tr>\n",
              "      <th>3331</th>\n",
              "      <td>CT</td>\n",
              "      <td>184</td>\n",
              "      <td>510</td>\n",
              "      <td>364-6381</td>\n",
              "      <td>yes</td>\n",
              "      <td>no</td>\n",
              "      <td>0</td>\n",
              "      <td>213.8</td>\n",
              "      <td>105</td>\n",
              "      <td>36.35</td>\n",
              "      <td>159.6</td>\n",
              "      <td>84</td>\n",
              "      <td>13.57</td>\n",
              "      <td>139.2</td>\n",
              "      <td>137</td>\n",
              "      <td>6.26</td>\n",
              "      <td>5.0</td>\n",
              "      <td>10</td>\n",
              "      <td>1.35</td>\n",
              "      <td>2</td>\n",
              "      <td>False.</td>\n",
              "    </tr>\n",
              "    <tr>\n",
              "      <th>3332</th>\n",
              "      <td>TN</td>\n",
              "      <td>74</td>\n",
              "      <td>415</td>\n",
              "      <td>400-4344</td>\n",
              "      <td>no</td>\n",
              "      <td>yes</td>\n",
              "      <td>25</td>\n",
              "      <td>234.4</td>\n",
              "      <td>113</td>\n",
              "      <td>39.85</td>\n",
              "      <td>265.9</td>\n",
              "      <td>82</td>\n",
              "      <td>22.60</td>\n",
              "      <td>241.4</td>\n",
              "      <td>77</td>\n",
              "      <td>10.86</td>\n",
              "      <td>13.7</td>\n",
              "      <td>4</td>\n",
              "      <td>3.70</td>\n",
              "      <td>0</td>\n",
              "      <td>False.</td>\n",
              "    </tr>\n",
              "  </tbody>\n",
              "</table>\n",
              "<p>3333 rows × 21 columns</p>\n",
              "</div>"
            ],
            "text/plain": [
              "     state  account length  ...  number customer service calls    churn\n",
              "0       KS             128  ...                              1   False.\n",
              "1       OH             107  ...                              1   False.\n",
              "2       NJ             137  ...                              0   False.\n",
              "3       OH              84  ...                              2   False.\n",
              "4       OK              75  ...                              3   False.\n",
              "...    ...             ...  ...                            ...      ...\n",
              "3328    AZ             192  ...                              2   False.\n",
              "3329    WV              68  ...                              3   False.\n",
              "3330    RI              28  ...                              2   False.\n",
              "3331    CT             184  ...                              2   False.\n",
              "3332    TN              74  ...                              0   False.\n",
              "\n",
              "[3333 rows x 21 columns]"
            ]
          },
          "metadata": {},
          "execution_count": 7
        }
      ]
    },
    {
      "cell_type": "code",
      "metadata": {
        "id": "8nBGzjZYMKOk"
      },
      "source": [
        "#quick preprocessing\n",
        "mapping = {'no': 0., 'yes':1., 'False.':0., 'True.':1.}\n",
        "df.replace({'international plan' : mapping, 'voice mail plan' : mapping, 'churn':mapping}, regex=True, inplace=True)"
      ],
      "execution_count": 8,
      "outputs": []
    },
    {
      "cell_type": "code",
      "metadata": {
        "id": "fYm35ayQMPXk",
        "colab": {
          "base_uri": "https://localhost:8080/"
        },
        "outputId": "cb8bb615-21a0-4f50-a270-26ee79f09d49"
      },
      "source": [
        "#discard some features\n",
        "df.drop('phone number', axis=1, inplace=True)\n",
        "df.drop('area code', axis=1, inplace=True)\n",
        "df.drop('state', axis=1, inplace=True)\n",
        "\n",
        "print(\"Dataset shape\" + str(df.shape))"
      ],
      "execution_count": 9,
      "outputs": [
        {
          "output_type": "stream",
          "name": "stdout",
          "text": [
            "Dataset shape(3333, 18)\n"
          ]
        }
      ]
    },
    {
      "cell_type": "markdown",
      "metadata": {
        "id": "h39eCG-3MoSK"
      },
      "source": [
        "What is the **churn** distribution?"
      ]
    },
    {
      "cell_type": "code",
      "metadata": {
        "id": "KTtL_FesJOjM",
        "colab": {
          "base_uri": "https://localhost:8080/"
        },
        "outputId": "9b4fee06-50c4-4923-dc39-7cb5db6ecaf5"
      },
      "source": [
        "df[\"churn\"].value_counts()"
      ],
      "execution_count": 10,
      "outputs": [
        {
          "output_type": "execute_result",
          "data": {
            "text/plain": [
              "0.0    2850\n",
              "1.0     483\n",
              "Name: churn, dtype: int64"
            ]
          },
          "metadata": {},
          "execution_count": 10
        }
      ]
    },
    {
      "cell_type": "markdown",
      "metadata": {
        "id": "Zek5D4fBNJkm"
      },
      "source": [
        "btw, anything to be worried about?\n"
      ]
    },
    {
      "cell_type": "code",
      "metadata": {
        "id": "x_1jd6c2JOjP"
      },
      "source": [
        "d_1 = df[df[\"churn\"]==1] #churners\n",
        "d_2 = df[df[\"churn\"]==0] #loyal users\n",
        "\n",
        "df = d_1.append(d_2[:400])\n"
      ],
      "execution_count": 11,
      "outputs": []
    },
    {
      "cell_type": "code",
      "metadata": {
        "colab": {
          "base_uri": "https://localhost:8080/"
        },
        "id": "awRMRi8OyFQN",
        "outputId": "9d4db4df-7ab6-4a5e-b4ab-39b7eaee7efd"
      },
      "source": [
        "df.shape"
      ],
      "execution_count": 12,
      "outputs": [
        {
          "output_type": "execute_result",
          "data": {
            "text/plain": [
              "(883, 18)"
            ]
          },
          "metadata": {},
          "execution_count": 12
        }
      ]
    },
    {
      "cell_type": "code",
      "metadata": {
        "id": "KCDjM00MJOjR"
      },
      "source": [
        "# split train - test 90% 10%\n",
        "X = df.drop(['churn'], axis=1)\n",
        "Y = df['churn']\n",
        "\n",
        "X_train, X_test, Y_train, Y_test = train_test_split(X,Y, test_size=.1, random_state=0)"
      ],
      "execution_count": 17,
      "outputs": []
    },
    {
      "cell_type": "code",
      "metadata": {
        "id": "OEUAqr41JOjU"
      },
      "source": [
        "#some other preprocessing ops\n",
        "\n",
        "# just as a note -- churn or not churn\n",
        "nb_classes = 1 \n",
        "\n",
        "X_train = X_train.astype('float32')\n",
        "X_test = X_test.astype('float32')\n",
        "\n",
        "#scale the inputs for NN -- last time we used standard scaling so...\n",
        "scaler = preprocessing.MinMaxScaler((-1,1))\n",
        "scaler.fit(X)\n",
        "\n",
        "XX_train = scaler.transform(X_train.values)\n",
        "XX_test  = scaler.transform(X_test.values) \n",
        "\n",
        "YY_train = Y_train.values \n",
        "YY_test  = Y_test.values "
      ],
      "execution_count": 18,
      "outputs": []
    },
    {
      "cell_type": "code",
      "metadata": {
        "id": "Qh5l4pL0JOjW",
        "outputId": "9742c6b8-bd86-4147-c531-0224d0601a1d",
        "colab": {
          "base_uri": "https://localhost:8080/"
        }
      },
      "source": [
        "print (X_train.shape, YY_train.shape)\n",
        "print (X_test.shape, YY_test.shape)"
      ],
      "execution_count": 19,
      "outputs": [
        {
          "output_type": "stream",
          "name": "stdout",
          "text": [
            "(794, 17) (794,)\n",
            "(89, 17) (89,)\n"
          ]
        }
      ]
    },
    {
      "cell_type": "markdown",
      "metadata": {
        "id": "LFWzSbk5JOjZ"
      },
      "source": [
        "### Building the model"
      ]
    },
    {
      "cell_type": "code",
      "metadata": {
        "id": "B_q-aDAwJOjc"
      },
      "source": [
        "# For a single-input model with 2 classes (binary classification):\n",
        "\n",
        "model = Sequential()\n",
        "\n",
        "# FC @ 64, non-linear\n",
        "model.add(Dense(64, activation=\"relu\", input_shape=(17,)))\n",
        "\n",
        "# FC @ 32, non linear\n",
        "model.add(Dense(32,activation='relu'))\n",
        "\n",
        "# output layer (nb_classes) -- what is the activation function in this case??\n",
        "model.add(Dense(1))\n",
        "model.add(Activation(\"sigmoid\"))\n",
        "\n",
        "# compile: optimizer & losses/metrics\n",
        "model.compile(optimizer='sgd',\n",
        "              loss='binary_crossentropy',\n",
        "              metrics = [\"accuracy\"])\n"
      ],
      "execution_count": 30,
      "outputs": []
    },
    {
      "cell_type": "code",
      "metadata": {
        "id": "vKltSX1EJOjh",
        "outputId": "a2914d23-f67f-4b46-e36b-ad57ac550409",
        "colab": {
          "base_uri": "https://localhost:8080/"
        }
      },
      "source": [
        "#get the summary\n",
        "\n",
        "model.summary()"
      ],
      "execution_count": 31,
      "outputs": [
        {
          "output_type": "stream",
          "name": "stdout",
          "text": [
            "Model: \"sequential_1\"\n",
            "_________________________________________________________________\n",
            "Layer (type)                 Output Shape              Param #   \n",
            "=================================================================\n",
            "dense_3 (Dense)              (None, 64)                1152      \n",
            "_________________________________________________________________\n",
            "dense_4 (Dense)              (None, 32)                2080      \n",
            "_________________________________________________________________\n",
            "dense_5 (Dense)              (None, 1)                 33        \n",
            "_________________________________________________________________\n",
            "activation_1 (Activation)    (None, 1)                 0         \n",
            "=================================================================\n",
            "Total params: 3,265\n",
            "Trainable params: 3,265\n",
            "Non-trainable params: 0\n",
            "_________________________________________________________________\n"
          ]
        }
      ]
    },
    {
      "cell_type": "code",
      "metadata": {
        "id": "Zwb4gF4wOSxJ",
        "outputId": "e30a711b-d2a4-4a53-dcc1-01857a03fce0",
        "colab": {
          "base_uri": "https://localhost:8080/"
        }
      },
      "source": [
        "#train!\n",
        "# 10 epochs, gradient batched each 100 samples\n",
        "n_epochs = 50\n",
        "batch_size = 16\n",
        "\n",
        "history = model.fit(X_train, Y_train, epochs=n_epochs, batch_size=batch_size)"
      ],
      "execution_count": 32,
      "outputs": [
        {
          "output_type": "stream",
          "name": "stdout",
          "text": [
            "Epoch 1/50\n",
            "50/50 [==============================] - 1s 3ms/step - loss: 13.4607 - accuracy: 0.5504\n",
            "Epoch 2/50\n",
            "50/50 [==============================] - 0s 3ms/step - loss: 0.6928 - accuracy: 0.5529\n",
            "Epoch 3/50\n",
            "50/50 [==============================] - 0s 3ms/step - loss: 0.6900 - accuracy: 0.5516\n",
            "Epoch 4/50\n",
            "50/50 [==============================] - 0s 3ms/step - loss: 0.6884 - accuracy: 0.5516\n",
            "Epoch 5/50\n",
            "50/50 [==============================] - 0s 3ms/step - loss: 0.6865 - accuracy: 0.5579\n",
            "Epoch 6/50\n",
            "50/50 [==============================] - 0s 3ms/step - loss: 0.6867 - accuracy: 0.5542\n",
            "Epoch 7/50\n",
            "50/50 [==============================] - 0s 3ms/step - loss: 0.6862 - accuracy: 0.5542\n",
            "Epoch 8/50\n",
            "50/50 [==============================] - 0s 3ms/step - loss: 0.6857 - accuracy: 0.5592\n",
            "Epoch 9/50\n",
            "50/50 [==============================] - 0s 3ms/step - loss: 0.6849 - accuracy: 0.5579\n",
            "Epoch 10/50\n",
            "50/50 [==============================] - 0s 3ms/step - loss: 0.6847 - accuracy: 0.5592\n",
            "Epoch 11/50\n",
            "50/50 [==============================] - 0s 3ms/step - loss: 0.6837 - accuracy: 0.5579\n",
            "Epoch 12/50\n",
            "50/50 [==============================] - 0s 3ms/step - loss: 0.6833 - accuracy: 0.5579\n",
            "Epoch 13/50\n",
            "50/50 [==============================] - 0s 3ms/step - loss: 0.6848 - accuracy: 0.5567\n",
            "Epoch 14/50\n",
            "50/50 [==============================] - 0s 3ms/step - loss: 0.6832 - accuracy: 0.5605\n",
            "Epoch 15/50\n",
            "50/50 [==============================] - 0s 3ms/step - loss: 0.6854 - accuracy: 0.5630\n",
            "Epoch 16/50\n",
            "50/50 [==============================] - 0s 3ms/step - loss: 0.6826 - accuracy: 0.5592\n",
            "Epoch 17/50\n",
            "50/50 [==============================] - 0s 3ms/step - loss: 0.6820 - accuracy: 0.5592\n",
            "Epoch 18/50\n",
            "50/50 [==============================] - 0s 3ms/step - loss: 0.6821 - accuracy: 0.5605\n",
            "Epoch 19/50\n",
            "50/50 [==============================] - 0s 3ms/step - loss: 0.6825 - accuracy: 0.5592\n",
            "Epoch 20/50\n",
            "50/50 [==============================] - 0s 3ms/step - loss: 0.6822 - accuracy: 0.5617\n",
            "Epoch 21/50\n",
            "50/50 [==============================] - 0s 3ms/step - loss: 0.6829 - accuracy: 0.5605\n",
            "Epoch 22/50\n",
            "50/50 [==============================] - 0s 3ms/step - loss: 0.6813 - accuracy: 0.5617\n",
            "Epoch 23/50\n",
            "50/50 [==============================] - 0s 3ms/step - loss: 0.6818 - accuracy: 0.5630\n",
            "Epoch 24/50\n",
            "50/50 [==============================] - 0s 3ms/step - loss: 0.6807 - accuracy: 0.5630\n",
            "Epoch 25/50\n",
            "50/50 [==============================] - 0s 3ms/step - loss: 0.6825 - accuracy: 0.5693\n",
            "Epoch 26/50\n",
            "50/50 [==============================] - 0s 3ms/step - loss: 0.6843 - accuracy: 0.5579\n",
            "Epoch 27/50\n",
            "50/50 [==============================] - 0s 3ms/step - loss: 0.6824 - accuracy: 0.5592\n",
            "Epoch 28/50\n",
            "50/50 [==============================] - 0s 3ms/step - loss: 0.6812 - accuracy: 0.5605\n",
            "Epoch 29/50\n",
            "50/50 [==============================] - 0s 3ms/step - loss: 0.6814 - accuracy: 0.5592\n",
            "Epoch 30/50\n",
            "50/50 [==============================] - 0s 3ms/step - loss: 0.6811 - accuracy: 0.5592\n",
            "Epoch 31/50\n",
            "50/50 [==============================] - 0s 3ms/step - loss: 0.6799 - accuracy: 0.5630\n",
            "Epoch 32/50\n",
            "50/50 [==============================] - 0s 3ms/step - loss: 0.6811 - accuracy: 0.5617\n",
            "Epoch 33/50\n",
            "50/50 [==============================] - 0s 3ms/step - loss: 0.6813 - accuracy: 0.5605\n",
            "Epoch 34/50\n",
            "50/50 [==============================] - 0s 3ms/step - loss: 0.6807 - accuracy: 0.5617\n",
            "Epoch 35/50\n",
            "50/50 [==============================] - 0s 3ms/step - loss: 0.6806 - accuracy: 0.5617\n",
            "Epoch 36/50\n",
            "50/50 [==============================] - 0s 3ms/step - loss: 0.6805 - accuracy: 0.5605\n",
            "Epoch 37/50\n",
            "50/50 [==============================] - 0s 3ms/step - loss: 0.6806 - accuracy: 0.5617\n",
            "Epoch 38/50\n",
            "50/50 [==============================] - 0s 3ms/step - loss: 0.6810 - accuracy: 0.5617\n",
            "Epoch 39/50\n",
            "50/50 [==============================] - 0s 3ms/step - loss: 0.6808 - accuracy: 0.5605\n",
            "Epoch 40/50\n",
            "50/50 [==============================] - 0s 3ms/step - loss: 0.6797 - accuracy: 0.5617\n",
            "Epoch 41/50\n",
            "50/50 [==============================] - 0s 3ms/step - loss: 0.6813 - accuracy: 0.5605\n",
            "Epoch 42/50\n",
            "50/50 [==============================] - 0s 3ms/step - loss: 0.6804 - accuracy: 0.5617\n",
            "Epoch 43/50\n",
            "50/50 [==============================] - 0s 3ms/step - loss: 0.6808 - accuracy: 0.5605\n",
            "Epoch 44/50\n",
            "50/50 [==============================] - 0s 3ms/step - loss: 0.6806 - accuracy: 0.5617\n",
            "Epoch 45/50\n",
            "50/50 [==============================] - 0s 3ms/step - loss: 0.6806 - accuracy: 0.5592\n",
            "Epoch 46/50\n",
            "50/50 [==============================] - 0s 3ms/step - loss: 0.6805 - accuracy: 0.5617\n",
            "Epoch 47/50\n",
            "50/50 [==============================] - 0s 3ms/step - loss: 0.6803 - accuracy: 0.5617\n",
            "Epoch 48/50\n",
            "50/50 [==============================] - 0s 3ms/step - loss: 0.6801 - accuracy: 0.5630\n",
            "Epoch 49/50\n",
            "50/50 [==============================] - 0s 3ms/step - loss: 0.6812 - accuracy: 0.5617\n",
            "Epoch 50/50\n",
            "50/50 [==============================] - 0s 3ms/step - loss: 0.6792 - accuracy: 0.5642\n"
          ]
        }
      ]
    },
    {
      "cell_type": "code",
      "metadata": {
        "id": "azXlXhOGQ_Wv",
        "outputId": "dfbe0b54-f3b0-459b-98ad-a86f73d08aed",
        "colab": {
          "base_uri": "https://localhost:8080/"
        }
      },
      "source": [
        "print('history dict:', history.history)"
      ],
      "execution_count": 33,
      "outputs": [
        {
          "output_type": "stream",
          "name": "stdout",
          "text": [
            "history dict: {'loss': [13.46065616607666, 0.6928432583808899, 0.6900278329849243, 0.688410758972168, 0.6864780187606812, 0.6867249011993408, 0.6862202882766724, 0.6856791973114014, 0.6848858594894409, 0.6847025156021118, 0.6837198138237, 0.6833397746086121, 0.6847541332244873, 0.6832312941551208, 0.6853747367858887, 0.6825917959213257, 0.682026207447052, 0.6820873022079468, 0.6824637055397034, 0.6822057962417603, 0.6828603148460388, 0.6813333630561829, 0.6817652583122253, 0.6807335615158081, 0.6825217008590698, 0.6842789649963379, 0.682375431060791, 0.6811506748199463, 0.6814261674880981, 0.6810770034790039, 0.6798630952835083, 0.6810523271560669, 0.6812704205513, 0.680747389793396, 0.6806411743164062, 0.6804722547531128, 0.6805704832077026, 0.6810193061828613, 0.6808373928070068, 0.6796569228172302, 0.6812548041343689, 0.6804344654083252, 0.68083256483078, 0.6806163191795349, 0.6805606484413147, 0.6805204153060913, 0.6802798509597778, 0.680134654045105, 0.6811712384223938, 0.6792153120040894], 'accuracy': [0.5503778457641602, 0.5528967380523682, 0.5516372919082642, 0.5516372919082642, 0.5579345226287842, 0.5541561841964722, 0.5541561841964722, 0.5591939687728882, 0.5579345226287842, 0.5591939687728882, 0.5579345226287842, 0.5579345226287842, 0.5566750764846802, 0.5604534149169922, 0.5629723072052002, 0.5591939687728882, 0.5591939687728882, 0.5604534149169922, 0.5591939687728882, 0.5617128610610962, 0.5604534149169922, 0.5617128610610962, 0.5629723072052002, 0.5629723072052002, 0.5692695379257202, 0.5579345226287842, 0.5591939687728882, 0.5604534149169922, 0.5591939687728882, 0.5591939687728882, 0.5629723072052002, 0.5617128610610962, 0.5604534149169922, 0.5617128610610962, 0.5617128610610962, 0.5604534149169922, 0.5617128610610962, 0.5617128610610962, 0.5604534149169922, 0.5617128610610962, 0.5604534149169922, 0.5617128610610962, 0.5604534149169922, 0.5617128610610962, 0.5591939687728882, 0.5617128610610962, 0.5617128610610962, 0.5629723072052002, 0.5617128610610962, 0.5642317533493042]}\n"
          ]
        }
      ]
    },
    {
      "cell_type": "code",
      "metadata": {
        "id": "tm27uBQRJOjf",
        "outputId": "7f16ce4b-4807-4c26-a2f1-9df5251e68cc",
        "colab": {
          "base_uri": "https://localhost:8080/"
        }
      },
      "source": [
        "# quickly get the performance score\n",
        "score = model.evaluate(XX_test, YY_test, batch_size=batch_size) #evaluating the models accuracy or loss,\n",
        "print('test loss, test acc:', score)"
      ],
      "execution_count": 34,
      "outputs": [
        {
          "output_type": "stream",
          "name": "stdout",
          "text": [
            "6/6 [==============================] - 0s 3ms/step - loss: 0.7171 - accuracy: 0.4831\n",
            "test loss, test acc: [0.7171128988265991, 0.483146071434021]\n"
          ]
        }
      ]
    },
    {
      "cell_type": "code",
      "metadata": {
        "id": "l1p4pW5BJOjk",
        "outputId": "fce0efeb-7d26-4787-da09-00be8187f830",
        "colab": {
          "base_uri": "https://localhost:8080/"
        }
      },
      "source": [
        "print(\"\\n%s: %.2f%%\" % (model.metrics_names[1], score[1]*100))\n",
        "print(\"\\n%s: %.2f\" % (model.metrics_names[0], score[0]))"
      ],
      "execution_count": 35,
      "outputs": [
        {
          "output_type": "stream",
          "name": "stdout",
          "text": [
            "\n",
            "accuracy: 48.31%\n",
            "\n",
            "loss: 0.72\n"
          ]
        }
      ]
    },
    {
      "cell_type": "markdown",
      "metadata": {
        "id": "6ue-_S5ZO2ZX"
      },
      "source": [
        "Generate predictions"
      ]
    },
    {
      "cell_type": "code",
      "metadata": {
        "id": "HY663I0KJOjm",
        "outputId": "b8ec4883-5b50-459c-981a-324b0946e234",
        "colab": {
          "base_uri": "https://localhost:8080/"
        }
      },
      "source": [
        "predictions = model.predict(XX_test)\n",
        "print('predictions shape:', predictions.shape)\n",
        "predictions[:3]"
      ],
      "execution_count": 28,
      "outputs": [
        {
          "output_type": "stream",
          "name": "stdout",
          "text": [
            "predictions shape: (89, 1)\n"
          ]
        },
        {
          "output_type": "execute_result",
          "data": {
            "text/plain": [
              "array([[0.63031685],\n",
              "       [0.5748527 ],\n",
              "       [0.61258996]], dtype=float32)"
            ]
          },
          "metadata": {},
          "execution_count": 28
        }
      ]
    },
    {
      "cell_type": "markdown",
      "metadata": {
        "id": "yfSk3cb8SIRy"
      },
      "source": [
        "## Performance measures\n",
        "\n",
        "The **sklearn.metrics** module implements functions assessing prediction error for specific purposes. These metrics are detailed in sections on Classification metrics, Multilabel ranking metrics, Regression metrics and Clustering metrics.\n",
        "\n",
        "Since we are dealing with a classification problem, we are interested on Accuracy, Precision, Recall and F-measure\n",
        "\n",
        "![alt text](https://cdn-images-1.medium.com/max/1600/1*pOtBHai4jFd-ujaNXPilRg.png)\n",
        "\n",
        "(image credits: https://medium.com/@shrutisaxena0617/precision-vs-recall-386cf9f89488)"
      ]
    },
    {
      "cell_type": "code",
      "metadata": {
        "id": "_JiLh9DvRlHD",
        "outputId": "4a3b3e75-2881-4347-dbdc-3f78e72ddb90",
        "colab": {
          "base_uri": "https://localhost:8080/"
        }
      },
      "source": [
        "from sklearn.metrics import accuracy_score\n",
        "\n",
        "y_classes = predictions.argmax(axis=-1)\n",
        "print(accuracy_score(y_classes, YY_test))"
      ],
      "execution_count": 36,
      "outputs": [
        {
          "output_type": "stream",
          "name": "stdout",
          "text": [
            "0.5168539325842697\n"
          ]
        }
      ]
    },
    {
      "cell_type": "markdown",
      "metadata": {
        "id": "ElRLWKvjRSUb"
      },
      "source": [
        "###**Question**\n",
        "\n",
        "Which accuracy we would have obtained by considering all the dataset? Would it be higher? Why?"
      ]
    },
    {
      "cell_type": "code",
      "metadata": {
        "id": "5EPk4ihWUyRW",
        "outputId": "68fab480-bb77-4460-b411-4a622010f99e",
        "colab": {
          "base_uri": "https://localhost:8080/"
        }
      },
      "source": [
        "from sklearn.metrics import classification_report\n",
        "print(classification_report(y_classes, YY_test))"
      ],
      "execution_count": 37,
      "outputs": [
        {
          "output_type": "stream",
          "name": "stdout",
          "text": [
            "              precision    recall  f1-score   support\n",
            "\n",
            "         0.0       1.00      0.52      0.68        89\n",
            "         1.0       0.00      0.00      0.00         0\n",
            "\n",
            "    accuracy                           0.52        89\n",
            "   macro avg       0.50      0.26      0.34        89\n",
            "weighted avg       1.00      0.52      0.68        89\n",
            "\n"
          ]
        },
        {
          "output_type": "stream",
          "name": "stderr",
          "text": [
            "/usr/local/lib/python3.7/dist-packages/sklearn/metrics/_classification.py:1272: UndefinedMetricWarning: Recall and F-score are ill-defined and being set to 0.0 in labels with no true samples. Use `zero_division` parameter to control this behavior.\n",
            "  _warn_prf(average, modifier, msg_start, len(result))\n"
          ]
        }
      ]
    },
    {
      "cell_type": "code",
      "metadata": {
        "id": "FNvZjDTgUXan",
        "outputId": "f270b120-2930-4f7c-81ba-5f640a993452",
        "colab": {
          "base_uri": "https://localhost:8080/"
        }
      },
      "source": [
        "from sklearn.metrics import precision_recall_fscore_support\n",
        "precision, recall, f_score, support = precision_recall_fscore_support(YY_test, y_classes)\n",
        "print(precision)\n",
        "print(recall)\n",
        "print(f_score)\n",
        "print(support)"
      ],
      "execution_count": 38,
      "outputs": [
        {
          "output_type": "stream",
          "name": "stdout",
          "text": [
            "[0.51685393 0.        ]\n",
            "[1. 0.]\n",
            "[0.68148148 0.        ]\n",
            "[46 43]\n"
          ]
        },
        {
          "output_type": "stream",
          "name": "stderr",
          "text": [
            "/usr/local/lib/python3.7/dist-packages/sklearn/metrics/_classification.py:1272: UndefinedMetricWarning: Precision and F-score are ill-defined and being set to 0.0 in labels with no predicted samples. Use `zero_division` parameter to control this behavior.\n",
            "  _warn_prf(average, modifier, msg_start, len(result))\n"
          ]
        }
      ]
    },
    {
      "cell_type": "code",
      "metadata": {
        "id": "KZvCl0QxUZmV",
        "outputId": "0a504749-c9a2-4d0d-8d18-3c0147db21ba",
        "colab": {
          "base_uri": "https://localhost:8080/"
        }
      },
      "source": [
        "precision, recall, f_score, support = precision_recall_fscore_support(YY_test, y_classes, average = \"macro\")\n",
        "print(precision)\n",
        "print(recall)\n",
        "print(f_score)"
      ],
      "execution_count": 39,
      "outputs": [
        {
          "output_type": "stream",
          "name": "stdout",
          "text": [
            "0.25842696629213485\n",
            "0.5\n",
            "0.3407407407407408\n"
          ]
        },
        {
          "output_type": "stream",
          "name": "stderr",
          "text": [
            "/usr/local/lib/python3.7/dist-packages/sklearn/metrics/_classification.py:1272: UndefinedMetricWarning: Precision and F-score are ill-defined and being set to 0.0 in labels with no predicted samples. Use `zero_division` parameter to control this behavior.\n",
            "  _warn_prf(average, modifier, msg_start, len(result))\n"
          ]
        }
      ]
    },
    {
      "cell_type": "code",
      "metadata": {
        "id": "_zVq-AmbUcYv",
        "outputId": "f5e96c07-96ea-4a6b-e445-2ea6b4d9b045",
        "colab": {
          "base_uri": "https://localhost:8080/"
        }
      },
      "source": [
        "precision, recall, f_score, support = precision_recall_fscore_support(YY_test, y_classes, average = \"weighted\")\n",
        "print(precision)\n",
        "print(recall)\n",
        "print(f_score)"
      ],
      "execution_count": 40,
      "outputs": [
        {
          "output_type": "stream",
          "name": "stdout",
          "text": [
            "0.2671379876278248\n",
            "0.5168539325842697\n",
            "0.3522263836870579\n"
          ]
        },
        {
          "output_type": "stream",
          "name": "stderr",
          "text": [
            "/usr/local/lib/python3.7/dist-packages/sklearn/metrics/_classification.py:1272: UndefinedMetricWarning: Precision and F-score are ill-defined and being set to 0.0 in labels with no predicted samples. Use `zero_division` parameter to control this behavior.\n",
            "  _warn_prf(average, modifier, msg_start, len(result))\n"
          ]
        }
      ]
    },
    {
      "cell_type": "markdown",
      "metadata": {
        "id": "25Ha_ciDPbTf"
      },
      "source": [
        "##  just FYI -- Optimizer"
      ]
    },
    {
      "cell_type": "markdown",
      "metadata": {
        "id": "GrihRTMMPebY"
      },
      "source": [
        "If you need to, you can further configure your optimizer. A core principle of Keras is to make things reasonably simple, while allowing the user to be fully in control when they need to (the ultimate control being the easy extensibility of the source code).\n",
        "Here we used <b>SGD</b> (stochastic gradient descent) as an optimization algorithm for our trainable weights.  \n",
        "\n",
        "See [https://keras.io/optimizers/](https://keras.io/optimizers/)"
      ]
    },
    {
      "cell_type": "markdown",
      "metadata": {
        "id": "pJqtV7IcPg94"
      },
      "source": [
        "<img src=\"http://ruder.io/content/images/2016/09/saddle_point_evaluation_optimizers.gif\" width=\"40%\">\n",
        "\n",
        "Source & Reference: http://sebastianruder.com/content/images/2016/09/saddle_point_evaluation_optimizers.gif"
      ]
    },
    {
      "cell_type": "code",
      "metadata": {
        "id": "KKChvVzEPgnw",
        "outputId": "f96ba28a-b748-490c-a6bc-8da1f9f0ea40",
        "colab": {
          "base_uri": "https://localhost:8080/"
        }
      },
      "source": [
        "model.compile(optimizer='rmsprop', #adadelta, adam, rmsprop \n",
        "              loss='binary_crossentropy',\n",
        "              metrics=['accuracy'])\n",
        "# note -- will see an alternative to instantiate optimizers with custom settings\n",
        "\n",
        "history = model.fit(X_train, Y_train, epochs=n_epochs, batch_size=batch_size) "
      ],
      "execution_count": 41,
      "outputs": [
        {
          "output_type": "stream",
          "name": "stdout",
          "text": [
            "Epoch 1/50\n",
            "50/50 [==============================] - 1s 3ms/step - loss: 0.6809 - accuracy: 0.5542\n",
            "Epoch 2/50\n",
            "50/50 [==============================] - 0s 4ms/step - loss: 0.6785 - accuracy: 0.5592\n",
            "Epoch 3/50\n",
            "50/50 [==============================] - 0s 4ms/step - loss: 0.6819 - accuracy: 0.5617\n",
            "Epoch 4/50\n",
            "50/50 [==============================] - 0s 4ms/step - loss: 0.6833 - accuracy: 0.5680\n",
            "Epoch 5/50\n",
            "50/50 [==============================] - 0s 3ms/step - loss: 0.6780 - accuracy: 0.5630\n",
            "Epoch 6/50\n",
            "50/50 [==============================] - 0s 3ms/step - loss: 0.6801 - accuracy: 0.5642\n",
            "Epoch 7/50\n",
            "50/50 [==============================] - 0s 4ms/step - loss: 0.6815 - accuracy: 0.5642\n",
            "Epoch 8/50\n",
            "50/50 [==============================] - 0s 3ms/step - loss: 0.6796 - accuracy: 0.5680\n",
            "Epoch 9/50\n",
            "50/50 [==============================] - 0s 3ms/step - loss: 0.6778 - accuracy: 0.5605\n",
            "Epoch 10/50\n",
            "50/50 [==============================] - 0s 4ms/step - loss: 0.6771 - accuracy: 0.5605\n",
            "Epoch 11/50\n",
            "50/50 [==============================] - 0s 3ms/step - loss: 0.6749 - accuracy: 0.5668\n",
            "Epoch 12/50\n",
            "50/50 [==============================] - 0s 3ms/step - loss: 0.6761 - accuracy: 0.5655\n",
            "Epoch 13/50\n",
            "50/50 [==============================] - 0s 3ms/step - loss: 0.6757 - accuracy: 0.5668\n",
            "Epoch 14/50\n",
            "50/50 [==============================] - 0s 4ms/step - loss: 0.6750 - accuracy: 0.5668\n",
            "Epoch 15/50\n",
            "50/50 [==============================] - 0s 4ms/step - loss: 0.6774 - accuracy: 0.5668\n",
            "Epoch 16/50\n",
            "50/50 [==============================] - 0s 3ms/step - loss: 0.6778 - accuracy: 0.5668\n",
            "Epoch 17/50\n",
            "50/50 [==============================] - 0s 3ms/step - loss: 0.6753 - accuracy: 0.5642\n",
            "Epoch 18/50\n",
            "50/50 [==============================] - 0s 3ms/step - loss: 0.6757 - accuracy: 0.5668\n",
            "Epoch 19/50\n",
            "50/50 [==============================] - 0s 4ms/step - loss: 0.6741 - accuracy: 0.5668\n",
            "Epoch 20/50\n",
            "50/50 [==============================] - 0s 4ms/step - loss: 0.6741 - accuracy: 0.5668\n",
            "Epoch 21/50\n",
            "50/50 [==============================] - 0s 4ms/step - loss: 0.6756 - accuracy: 0.5630\n",
            "Epoch 22/50\n",
            "50/50 [==============================] - 0s 3ms/step - loss: 0.6734 - accuracy: 0.5655\n",
            "Epoch 23/50\n",
            "50/50 [==============================] - 0s 3ms/step - loss: 0.6720 - accuracy: 0.5680\n",
            "Epoch 24/50\n",
            "50/50 [==============================] - 0s 3ms/step - loss: 0.6744 - accuracy: 0.5680\n",
            "Epoch 25/50\n",
            "50/50 [==============================] - 0s 3ms/step - loss: 0.6748 - accuracy: 0.5630\n",
            "Epoch 26/50\n",
            "50/50 [==============================] - 0s 3ms/step - loss: 0.6730 - accuracy: 0.5680\n",
            "Epoch 27/50\n",
            "50/50 [==============================] - 0s 4ms/step - loss: 0.6750 - accuracy: 0.5668\n",
            "Epoch 28/50\n",
            "50/50 [==============================] - 0s 4ms/step - loss: 0.6745 - accuracy: 0.5655\n",
            "Epoch 29/50\n",
            "50/50 [==============================] - 0s 4ms/step - loss: 0.6746 - accuracy: 0.5693\n",
            "Epoch 30/50\n",
            "50/50 [==============================] - 0s 4ms/step - loss: 0.6781 - accuracy: 0.5668\n",
            "Epoch 31/50\n",
            "50/50 [==============================] - 0s 3ms/step - loss: 0.6712 - accuracy: 0.5693\n",
            "Epoch 32/50\n",
            "50/50 [==============================] - 0s 3ms/step - loss: 0.6713 - accuracy: 0.5605\n",
            "Epoch 33/50\n",
            "50/50 [==============================] - 0s 3ms/step - loss: 0.6711 - accuracy: 0.5642\n",
            "Epoch 34/50\n",
            "50/50 [==============================] - 0s 3ms/step - loss: 0.6722 - accuracy: 0.5680\n",
            "Epoch 35/50\n",
            "50/50 [==============================] - 0s 4ms/step - loss: 0.6752 - accuracy: 0.5680\n",
            "Epoch 36/50\n",
            "50/50 [==============================] - 0s 3ms/step - loss: 0.6728 - accuracy: 0.5642\n",
            "Epoch 37/50\n",
            "50/50 [==============================] - 0s 3ms/step - loss: 0.6726 - accuracy: 0.5642\n",
            "Epoch 38/50\n",
            "50/50 [==============================] - 0s 4ms/step - loss: 0.6705 - accuracy: 0.5668\n",
            "Epoch 39/50\n",
            "50/50 [==============================] - 0s 3ms/step - loss: 0.6694 - accuracy: 0.5655\n",
            "Epoch 40/50\n",
            "50/50 [==============================] - 0s 3ms/step - loss: 0.6719 - accuracy: 0.5680\n",
            "Epoch 41/50\n",
            "50/50 [==============================] - 0s 4ms/step - loss: 0.6691 - accuracy: 0.5630\n",
            "Epoch 42/50\n",
            "50/50 [==============================] - 0s 3ms/step - loss: 0.6696 - accuracy: 0.5680\n",
            "Epoch 43/50\n",
            "50/50 [==============================] - 0s 4ms/step - loss: 0.6682 - accuracy: 0.5705\n",
            "Epoch 44/50\n",
            "50/50 [==============================] - 0s 4ms/step - loss: 0.6749 - accuracy: 0.5680\n",
            "Epoch 45/50\n",
            "50/50 [==============================] - 0s 4ms/step - loss: 0.6732 - accuracy: 0.5680\n",
            "Epoch 46/50\n",
            "50/50 [==============================] - 0s 4ms/step - loss: 0.6679 - accuracy: 0.5668\n",
            "Epoch 47/50\n",
            "50/50 [==============================] - 0s 3ms/step - loss: 0.6742 - accuracy: 0.5693\n",
            "Epoch 48/50\n",
            "50/50 [==============================] - 0s 3ms/step - loss: 0.6710 - accuracy: 0.5655\n",
            "Epoch 49/50\n",
            "50/50 [==============================] - 0s 3ms/step - loss: 0.6702 - accuracy: 0.5668\n",
            "Epoch 50/50\n",
            "50/50 [==============================] - 0s 3ms/step - loss: 0.6692 - accuracy: 0.5668\n"
          ]
        }
      ]
    },
    {
      "cell_type": "code",
      "metadata": {
        "id": "zxbvEBqL6hQC"
      },
      "source": [
        ""
      ],
      "execution_count": null,
      "outputs": []
    }
  ]
}