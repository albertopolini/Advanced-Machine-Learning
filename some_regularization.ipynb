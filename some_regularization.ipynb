{
  "nbformat": 4,
  "nbformat_minor": 0,
  "metadata": {
    "accelerator": "GPU",
    "colab": {
      "name": "some_regularization.ipynb",
      "provenance": [],
      "collapsed_sections": [],
      "include_colab_link": true
    },
    "kernelspec": {
      "display_name": "Python 3",
      "language": "python",
      "name": "python3"
    },
    "language_info": {
      "codemirror_mode": {
        "name": "ipython",
        "version": 3
      },
      "file_extension": ".py",
      "mimetype": "text/x-python",
      "name": "python",
      "nbconvert_exporter": "python",
      "pygments_lexer": "ipython3",
      "version": "3.6.9"
    }
  },
  "cells": [
    {
      "cell_type": "markdown",
      "metadata": {
        "id": "view-in-github",
        "colab_type": "text"
      },
      "source": [
        "<a href=\"https://colab.research.google.com/github/albertopolini/Advanced-Machine-Learning/blob/main/some_regularization.ipynb\" target=\"_parent\"><img src=\"https://colab.research.google.com/assets/colab-badge.svg\" alt=\"Open In Colab\"/></a>"
      ]
    },
    {
      "cell_type": "markdown",
      "metadata": {
        "id": "jG16KcmYALhG"
      },
      "source": [
        "# Fully Connected Feed-Forward Network\n",
        "\n",
        "In this notebook we will play with Feed-Forward FC-NN (Fully Connected Neural Network) for a *classification task*: \n",
        "\n",
        "Image Classification on MNIST Dataset\n",
        "\n",
        "**RECALL**\n",
        "\n",
        "In the FC-NN, the output of each layer is computed using the activations from the previous one, as follows:\n",
        "\n",
        "$$h_{i} = \\sigma(W_i h_{i-1} + b_i)$$\n",
        "\n",
        "where ${h}_i$ is the activation vector from the $i$-th layer (or the input data for $i=0$), ${W}_i$ and ${b}_i$ are the weight matrix and the bias vector for the $i$-th layer, respectively. \n",
        "<br><rb>\n",
        "$\\sigma(\\cdot)$ is the activation function. In our example, we will use the *ReLU* activation function for the hidden layers and *softmax* for the last layer.\n",
        "\n",
        "Our loss function will be the **categorical crossentropy**."
      ]
    },
    {
      "cell_type": "markdown",
      "metadata": {
        "id": "YySfiTRCiat5"
      },
      "source": [
        "## Import libraries"
      ]
    },
    {
      "cell_type": "code",
      "metadata": {
        "id": "6cpVZVFIALhK"
      },
      "source": [
        "import numpy as np\n",
        "import matplotlib.pyplot as plt\n",
        "from keras.datasets import fashion_mnist\n",
        "from keras.utils import np_utils\n",
        "from keras.models import Sequential\n",
        "from keras.layers.core import Dense, Dropout\n",
        "from sklearn.model_selection import train_test_split\n",
        "from tensorflow.keras import regularizers\n",
        "from keras.backend import abs, sum\n",
        "import tensorflow as tf\n",
        "\n",
        "%matplotlib inline"
      ],
      "execution_count": 24,
      "outputs": []
    },
    {
      "cell_type": "markdown",
      "metadata": {
        "id": "_aY27siWALhk"
      },
      "source": [
        "## Data preparation (`keras.dataset`)\n",
        "\n",
        "Fashion-MNIST is a dataset of Zalando's article images—consisting of a training set of $60,000$ examples and a test set of $10,000$ examples. Each example is a 28x28 grayscale image, associated with a label from 10 classes.\n",
        "\n",
        "**Fashion-MNIST: a Novel Image Dataset for Benchmarking Machine Learning Algorithms. Han Xiao, Kashif Rasul, Roland Vollgraf. [arXiv:1708.07747](http://arxiv.org/abs/1708.07747)**\n",
        "\n",
        "<img src=\"https://miro.medium.com/max/758/1*cd0yDlTocSud8W-nT308PQ.png\" width=\"80%\" />\n",
        "\n",
        "\n",
        "\n",
        "<img src=\"https://hanxiao.github.io/2017/08/26/Fashion-MNIST-a-Drop-In-Replacement-of-MNIST-for-Benchmarking-Machine-Learning-Algorithms/embedding.gif\" width=\"80%\" />\n"
      ]
    },
    {
      "cell_type": "markdown",
      "metadata": {
        "id": "J_HVdNfgaP5A"
      },
      "source": [
        "Since this dataset is **provided** with Keras, we just ask the `keras.dataset` model for training and test data.\n",
        "\n",
        "We will:\n",
        "\n",
        "* download the data\n",
        "* reshape data to be in vectorial form (original data are images)\n",
        "* normalize between 0 and 1.\n",
        "\n",
        "The `categorical_crossentropy` loss expects a **one-hot-vector** as input, therefore we apply the `to_categorical` function from `keras.utilis` to convert integer labels to **one-hot-vectors**."
      ]
    },
    {
      "cell_type": "code",
      "metadata": {
        "id": "L3reWqLtALhl"
      },
      "source": [
        "(X_train, y_train), (X_test, y_test) = fashion_mnist.load_data()"
      ],
      "execution_count": 25,
      "outputs": []
    },
    {
      "cell_type": "code",
      "metadata": {
        "id": "95KM6c43ALhp",
        "outputId": "e43b7921-3ccc-48ef-9566-86d5fcfe83c9",
        "colab": {
          "base_uri": "https://localhost:8080/"
        }
      },
      "source": [
        "X_train.shape"
      ],
      "execution_count": 26,
      "outputs": [
        {
          "output_type": "execute_result",
          "data": {
            "text/plain": [
              "(60000, 28, 28)"
            ]
          },
          "metadata": {},
          "execution_count": 26
        }
      ]
    },
    {
      "cell_type": "code",
      "metadata": {
        "id": "GrHXczGHlmDX",
        "outputId": "82f1c5c3-226a-42bb-829c-d986c6c8106f",
        "colab": {
          "base_uri": "https://localhost:8080/"
        }
      },
      "source": [
        "print(X_train)"
      ],
      "execution_count": 27,
      "outputs": [
        {
          "output_type": "stream",
          "name": "stdout",
          "text": [
            "[[[0 0 0 ... 0 0 0]\n",
            "  [0 0 0 ... 0 0 0]\n",
            "  [0 0 0 ... 0 0 0]\n",
            "  ...\n",
            "  [0 0 0 ... 0 0 0]\n",
            "  [0 0 0 ... 0 0 0]\n",
            "  [0 0 0 ... 0 0 0]]\n",
            "\n",
            " [[0 0 0 ... 0 0 0]\n",
            "  [0 0 0 ... 0 0 0]\n",
            "  [0 0 0 ... 0 0 0]\n",
            "  ...\n",
            "  [0 0 0 ... 0 0 0]\n",
            "  [0 0 0 ... 0 0 0]\n",
            "  [0 0 0 ... 0 0 0]]\n",
            "\n",
            " [[0 0 0 ... 0 0 0]\n",
            "  [0 0 0 ... 0 0 0]\n",
            "  [0 0 0 ... 0 0 0]\n",
            "  ...\n",
            "  [0 0 0 ... 0 0 0]\n",
            "  [0 0 0 ... 0 0 0]\n",
            "  [0 0 0 ... 0 0 0]]\n",
            "\n",
            " ...\n",
            "\n",
            " [[0 0 0 ... 0 0 0]\n",
            "  [0 0 0 ... 0 0 0]\n",
            "  [0 0 0 ... 0 0 0]\n",
            "  ...\n",
            "  [0 0 0 ... 0 0 0]\n",
            "  [0 0 0 ... 0 0 0]\n",
            "  [0 0 0 ... 0 0 0]]\n",
            "\n",
            " [[0 0 0 ... 0 0 0]\n",
            "  [0 0 0 ... 0 0 0]\n",
            "  [0 0 0 ... 0 0 0]\n",
            "  ...\n",
            "  [0 0 0 ... 0 0 0]\n",
            "  [0 0 0 ... 0 0 0]\n",
            "  [0 0 0 ... 0 0 0]]\n",
            "\n",
            " [[0 0 0 ... 0 0 0]\n",
            "  [0 0 0 ... 0 0 0]\n",
            "  [0 0 0 ... 0 0 0]\n",
            "  ...\n",
            "  [0 0 0 ... 0 0 0]\n",
            "  [0 0 0 ... 0 0 0]\n",
            "  [0 0 0 ... 0 0 0]]]\n"
          ]
        }
      ]
    },
    {
      "cell_type": "code",
      "metadata": {
        "id": "xFDaI9Hs-CPF",
        "outputId": "576913f8-f046-46d5-f129-d332052df37f",
        "colab": {
          "base_uri": "https://localhost:8080/"
        }
      },
      "source": [
        "print('Number of categories:',len(set(y_train)))"
      ],
      "execution_count": 28,
      "outputs": [
        {
          "output_type": "stream",
          "name": "stdout",
          "text": [
            "Number of categories: 10\n"
          ]
        }
      ]
    },
    {
      "cell_type": "code",
      "metadata": {
        "id": "5GeCi5_9ALhv"
      },
      "source": [
        "X_train = X_train.reshape(60000, 784)\n",
        "X_test = X_test.reshape(10000, 784)\n",
        "X_train = X_train.astype(\"float32\")\n",
        "X_test = X_test.astype(\"float32\")\n",
        "\n",
        "# Put everything on grayscale (normalization)\n",
        "X_train /= 255\n",
        "X_test /= 255\n",
        "#\n",
        "## convert class vectors to binary class matrices (one hot encode). \n",
        "#They are already numbers so you can use the function directly to_categorical\n",
        "Y_train =  np_utils.to_categorical(y_train, 10)\n",
        "Y_test = np_utils.to_categorical(y_test, 10)"
      ],
      "execution_count": 29,
      "outputs": []
    },
    {
      "cell_type": "code",
      "metadata": {
        "id": "wEyLRLaBBiDK",
        "outputId": "bb8c4e95-6355-4826-fcc3-0165bdb883e1",
        "colab": {
          "base_uri": "https://localhost:8080/"
        }
      },
      "source": [
        "Y_train, y_train"
      ],
      "execution_count": 30,
      "outputs": [
        {
          "output_type": "execute_result",
          "data": {
            "text/plain": [
              "(array([[0., 0., 0., ..., 0., 0., 1.],\n",
              "        [1., 0., 0., ..., 0., 0., 0.],\n",
              "        [1., 0., 0., ..., 0., 0., 0.],\n",
              "        ...,\n",
              "        [0., 0., 0., ..., 0., 0., 0.],\n",
              "        [1., 0., 0., ..., 0., 0., 0.],\n",
              "        [0., 0., 0., ..., 0., 0., 0.]], dtype=float32),\n",
              " array([9, 0, 0, ..., 3, 0, 5], dtype=uint8))"
            ]
          },
          "metadata": {},
          "execution_count": 30
        }
      ]
    },
    {
      "cell_type": "markdown",
      "metadata": {
        "id": "1_fCwONCALhz"
      },
      "source": [
        "#### Split Training and Validation Data"
      ]
    },
    {
      "cell_type": "code",
      "metadata": {
        "id": "lxe5WJdoALh1"
      },
      "source": [
        "X_train, X_val, Y_train, Y_val = train_test_split(X_train, Y_train)"
      ],
      "execution_count": 31,
      "outputs": []
    },
    {
      "cell_type": "code",
      "metadata": {
        "id": "sz3Jct-SALiA",
        "outputId": "95dedefd-d022-468e-904d-ff1061a10d0b",
        "colab": {
          "base_uri": "https://localhost:8080/"
        }
      },
      "source": [
        "print('Size of the train set:', X_train.shape)"
      ],
      "execution_count": 32,
      "outputs": [
        {
          "output_type": "stream",
          "name": "stdout",
          "text": [
            "Size of the train set: (45000, 784)\n"
          ]
        }
      ]
    },
    {
      "cell_type": "code",
      "metadata": {
        "id": "B8sPlMAoALiF",
        "outputId": "9ad0fd81-b3b3-4c35-c956-d6e3a646a39f",
        "colab": {
          "base_uri": "https://localhost:8080/",
          "height": 282
        }
      },
      "source": [
        "# Display data as an image on a 2D regular raster.\n",
        "# The input may either be actual RGB(A) data, or 2D scalar data,\n",
        "# which will be rendered as a pseudocolor image\n",
        "\n",
        "plt.imshow(X_train[6].reshape(28, 28))"
      ],
      "execution_count": 33,
      "outputs": [
        {
          "output_type": "execute_result",
          "data": {
            "text/plain": [
              "<matplotlib.image.AxesImage at 0x7f386959b790>"
            ]
          },
          "metadata": {},
          "execution_count": 33
        },
        {
          "output_type": "display_data",
          "data": {
            "image/png": "[encoded data removed]",
            "text/plain": [
              "<Figure size 432x288 with 1 Axes>"
            ]
          },
          "metadata": {
            "needs_background": "light"
          }
        }
      ]
    },
    {
      "cell_type": "code",
      "metadata": {
        "id": "_etarmsaALiJ",
        "outputId": "6ec850cb-284e-4714-eb2d-2f3ac9692be4",
        "colab": {
          "base_uri": "https://localhost:8080/"
        }
      },
      "source": [
        "print(np.asarray(range(10)))\n",
        "print(Y_train[6].astype('int'))"
      ],
      "execution_count": 34,
      "outputs": [
        {
          "output_type": "stream",
          "name": "stdout",
          "text": [
            "[0 1 2 3 4 5 6 7 8 9]\n",
            "[0 0 0 0 0 1 0 0 0 0]\n"
          ]
        }
      ]
    },
    {
      "cell_type": "code",
      "metadata": {
        "id": "QUa0gVqTALiO",
        "outputId": "e245bdaf-876d-4ea4-ae56-cdcd188b8b8b",
        "colab": {
          "base_uri": "https://localhost:8080/",
          "height": 282
        }
      },
      "source": [
        "plt.imshow(X_val[0].reshape(28, 28))"
      ],
      "execution_count": 35,
      "outputs": [
        {
          "output_type": "execute_result",
          "data": {
            "text/plain": [
              "<matplotlib.image.AxesImage at 0x7f38695c52d0>"
            ]
          },
          "metadata": {},
          "execution_count": 35
        },
        {
          "output_type": "display_data",
          "data": {
            "image/png": "[encoded data removed]",
            "text/plain": [
              "<Figure size 432x288 with 1 Axes>"
            ]
          },
          "metadata": {
            "needs_background": "light"
          }
        }
      ]
    },
    {
      "cell_type": "code",
      "metadata": {
        "id": "Z6s_OQPeALiT",
        "outputId": "b7c80a55-6bf3-464e-e3de-b003c85ddb7d",
        "colab": {
          "base_uri": "https://localhost:8080/"
        }
      },
      "source": [
        "print(np.asarray(range(10)))\n",
        "print(Y_val[0].astype('int'))"
      ],
      "execution_count": 36,
      "outputs": [
        {
          "output_type": "stream",
          "name": "stdout",
          "text": [
            "[0 1 2 3 4 5 6 7 8 9]\n",
            "[0 0 0 0 0 0 0 1 0 0]\n"
          ]
        }
      ]
    },
    {
      "cell_type": "markdown",
      "metadata": {
        "id": "Gjw-jEmFALhI"
      },
      "source": [
        "## Model definition\n",
        "\n",
        "In our case we build a Sequential model with five [Dense](http://keras.io/layers/core/#dense) (aka fully connected) layers. Notice that the output layer has the softmax activation function. \n",
        "\n",
        "The resulting model is actually a `function` of its own inputs implemented using the Keras backend. \n",
        "\n",
        "We apply the categorical crossentropy loss and choose SGD as the optimizer. \n",
        "\n",
        "Please remind that Keras supports a variety of different [optimizers](http://keras.io/optimizers/) and [loss functions](http://keras.io/objectives/), which you may want to check out. "
      ]
    },
    {
      "cell_type": "markdown",
      "metadata": {
        "id": "2hyVyDDAALiY"
      },
      "source": [
        "## Training\n",
        "Having defined and compiled the model, it can be trained using the `fit` function. We also specify a validation dataset to monitor validation loss and accuracy."
      ]
    },
    {
      "cell_type": "code",
      "metadata": {
        "id": "9jOa9rMbALhV",
        "outputId": "41893cdb-40d2-44f0-f664-97736450d767",
        "colab": {
          "base_uri": "https://localhost:8080/"
        }
      },
      "source": [
        "dims = X_train.shape[1]\n",
        "\n",
        "nb_classes = 10\n",
        "\n",
        "#\"advanced\" usage -- a possible way to initialize weights ..> https://keras.io/api/layers/initializers/\n",
        "initializer = tf.keras.initializers.GlorotUniform(seed=1234) \n",
        "\n",
        "# BUILD\n",
        "model = Sequential()\n",
        "model.add(Dense(512, input_shape=(dims,), activation = \"relu\", kernel_initializer=initializer))\n",
        "model.add(Dense(256, activation = \"relu\", kernel_initializer=initializer))\n",
        "model.add(Dense(32, activation = \"relu\", kernel_initializer=initializer))\n",
        "model.add(Dense(16, activation = \"relu\", kernel_initializer=initializer))\n",
        "model.add(Dense(nb_classes, activation = \"softmax\", kernel_initializer=initializer))\n",
        "\n",
        "\n",
        "# COMPILE --> optimization details\n",
        "\n",
        "from tensorflow.keras.optimizers import SGD # yet another way to set up optimizers explicitly --> https://keras.io/api/optimizers/\n",
        "model.compile(optimizer=SGD(lr=0.001), loss='categorical_crossentropy',metrics=['accuracy'])\n"
      ],
      "execution_count": 37,
      "outputs": [
        {
          "output_type": "stream",
          "name": "stderr",
          "text": [
            "/usr/local/lib/python3.7/dist-packages/keras/optimizer_v2/optimizer_v2.py:356: UserWarning: The `lr` argument is deprecated, use `learning_rate` instead.\n",
            "  \"The `lr` argument is deprecated, use `learning_rate` instead.\")\n"
          ]
        }
      ]
    },
    {
      "cell_type": "code",
      "metadata": {
        "id": "G2Rv7wSfALjc",
        "outputId": "8924a772-f5c4-4a14-db65-b9335cd206c5",
        "colab": {
          "base_uri": "https://localhost:8080/"
        }
      },
      "source": [
        "# We already used `summary`\n",
        "model.summary()"
      ],
      "execution_count": 38,
      "outputs": [
        {
          "output_type": "stream",
          "name": "stdout",
          "text": [
            "Model: \"sequential_1\"\n",
            "_________________________________________________________________\n",
            "Layer (type)                 Output Shape              Param #   \n",
            "=================================================================\n",
            "dense_5 (Dense)              (None, 512)               401920    \n",
            "_________________________________________________________________\n",
            "dense_6 (Dense)              (None, 256)               131328    \n",
            "_________________________________________________________________\n",
            "dense_7 (Dense)              (None, 32)                8224      \n",
            "_________________________________________________________________\n",
            "dense_8 (Dense)              (None, 16)                528       \n",
            "_________________________________________________________________\n",
            "dense_9 (Dense)              (None, 10)                170       \n",
            "=================================================================\n",
            "Total params: 542,170\n",
            "Trainable params: 542,170\n",
            "Non-trainable params: 0\n",
            "_________________________________________________________________\n"
          ]
        }
      ]
    },
    {
      "cell_type": "code",
      "metadata": {
        "id": "qJUqfP1EALib",
        "scrolled": false,
        "outputId": "c7cd635a-6132-4bc9-a473-df42934216ae",
        "colab": {
          "base_uri": "https://localhost:8080/"
        }
      },
      "source": [
        "#train! --> notice the validation steps\n",
        "\n",
        "n_epochs =20\n",
        "network_history = model.fit(X_train, Y_train, batch_size=128, \n",
        "                            epochs=n_epochs, verbose=2, validation_data=(X_val, Y_val))"
      ],
      "execution_count": 39,
      "outputs": [
        {
          "output_type": "stream",
          "name": "stdout",
          "text": [
            "Epoch 1/20\n",
            "352/352 - 2s - loss: 2.1969 - accuracy: 0.2925 - val_loss: 2.0995 - val_accuracy: 0.3909\n",
            "Epoch 2/20\n",
            "352/352 - 1s - loss: 2.0145 - accuracy: 0.4178 - val_loss: 1.9309 - val_accuracy: 0.4304\n",
            "Epoch 3/20\n",
            "352/352 - 1s - loss: 1.8422 - accuracy: 0.4449 - val_loss: 1.7533 - val_accuracy: 0.4566\n",
            "Epoch 4/20\n",
            "352/352 - 1s - loss: 1.6546 - accuracy: 0.4782 - val_loss: 1.5605 - val_accuracy: 0.5038\n",
            "Epoch 5/20\n",
            "352/352 - 1s - loss: 1.4629 - accuracy: 0.5271 - val_loss: 1.3727 - val_accuracy: 0.5535\n",
            "Epoch 6/20\n",
            "352/352 - 1s - loss: 1.2797 - accuracy: 0.5932 - val_loss: 1.1966 - val_accuracy: 0.6220\n",
            "Epoch 7/20\n",
            "352/352 - 1s - loss: 1.1192 - accuracy: 0.6441 - val_loss: 1.0535 - val_accuracy: 0.6595\n",
            "Epoch 8/20\n",
            "352/352 - 1s - loss: 0.9972 - accuracy: 0.6741 - val_loss: 0.9503 - val_accuracy: 0.6843\n",
            "Epoch 9/20\n",
            "352/352 - 1s - loss: 0.9106 - accuracy: 0.6959 - val_loss: 0.8773 - val_accuracy: 0.7043\n",
            "Epoch 10/20\n",
            "352/352 - 1s - loss: 0.8478 - accuracy: 0.7150 - val_loss: 0.8228 - val_accuracy: 0.7204\n",
            "Epoch 11/20\n",
            "352/352 - 1s - loss: 0.8008 - accuracy: 0.7288 - val_loss: 0.7829 - val_accuracy: 0.7273\n",
            "Epoch 12/20\n",
            "352/352 - 1s - loss: 0.7648 - accuracy: 0.7396 - val_loss: 0.7500 - val_accuracy: 0.7405\n",
            "Epoch 13/20\n",
            "352/352 - 1s - loss: 0.7356 - accuracy: 0.7512 - val_loss: 0.7234 - val_accuracy: 0.7503\n",
            "Epoch 14/20\n",
            "352/352 - 1s - loss: 0.7113 - accuracy: 0.7594 - val_loss: 0.7012 - val_accuracy: 0.7589\n",
            "Epoch 15/20\n",
            "352/352 - 1s - loss: 0.6899 - accuracy: 0.7670 - val_loss: 0.6812 - val_accuracy: 0.7675\n",
            "Epoch 16/20\n",
            "352/352 - 1s - loss: 0.6711 - accuracy: 0.7753 - val_loss: 0.6635 - val_accuracy: 0.7738\n",
            "Epoch 17/20\n",
            "352/352 - 1s - loss: 0.6541 - accuracy: 0.7807 - val_loss: 0.6488 - val_accuracy: 0.7808\n",
            "Epoch 18/20\n",
            "352/352 - 1s - loss: 0.6386 - accuracy: 0.7860 - val_loss: 0.6340 - val_accuracy: 0.7853\n",
            "Epoch 19/20\n",
            "352/352 - 1s - loss: 0.6248 - accuracy: 0.7909 - val_loss: 0.6205 - val_accuracy: 0.7912\n",
            "Epoch 20/20\n",
            "352/352 - 2s - loss: 0.6120 - accuracy: 0.7960 - val_loss: 0.6085 - val_accuracy: 0.7958\n"
          ]
        }
      ]
    },
    {
      "cell_type": "markdown",
      "metadata": {
        "id": "qw7hl-VJALig"
      },
      "source": [
        "### Plotting Network Performance Trend\n",
        "The return value of the `fit` function is a `keras.callbacks.History` object which contains the entire history of training/validation loss and accuracy, for each epoch. We can therefore plot the behaviour of loss and accuracy during the training phase."
      ]
    },
    {
      "cell_type": "code",
      "metadata": {
        "id": "fMnowu6DALih",
        "outputId": "31185e76-7d99-46dd-c3c3-ddc4fab11de4",
        "colab": {
          "base_uri": "https://localhost:8080/",
          "height": 541
        }
      },
      "source": [
        "x_plot = list(range(1,n_epochs+1))\n",
        "\n",
        "def plot_history(network_history):\n",
        "    plt.figure()\n",
        "    plt.xlabel('Epochs')\n",
        "    plt.ylabel('Loss')\n",
        "    plt.plot(x_plot, network_history.history['loss'])\n",
        "    plt.plot(x_plot, network_history.history['val_loss'])\n",
        "    plt.legend(['Training', 'Validation'])\n",
        "\n",
        "    plt.figure()\n",
        "    plt.xlabel('Epochs')\n",
        "    plt.ylabel('Accuracy')\n",
        "    plt.plot(x_plot, network_history.history['accuracy'])\n",
        "    plt.plot(x_plot, network_history.history['val_accuracy'])\n",
        "    plt.legend(['Training', 'Validation'], loc='lower right')\n",
        "    plt.show()\n",
        "\n",
        "plot_history(network_history)"
      ],
      "execution_count": 40,
      "outputs": [
        {
          "output_type": "display_data",
          "data": {
            "image/png": "[encoded data removed]",
            "text/plain": [
              "<Figure size 432x288 with 1 Axes>"
            ]
          },
          "metadata": {
            "needs_background": "light"
          }
        },
        {
          "output_type": "display_data",
          "data": {
            "image/png": "[encoded data removed]",
            "text/plain": [
              "<Figure size 432x288 with 1 Axes>"
            ]
          },
          "metadata": {
            "needs_background": "light"
          }
        }
      ]
    },
    {
      "cell_type": "markdown",
      "metadata": {
        "id": "QV6yD1wJALir"
      },
      "source": [
        "After `20` epochs, we get a `~80%` validation accuracy.\n",
        "\n",
        "* If you increase the number of epochs, you will get definitely better results."
      ]
    },
    {
      "cell_type": "markdown",
      "metadata": {
        "id": "cJ_R00XXALja"
      },
      "source": [
        "---"
      ]
    },
    {
      "cell_type": "markdown",
      "metadata": {
        "id": "Jf65svAHALjb"
      },
      "source": [
        "# Inspecting Layers\n",
        "\n",
        "not essential, but will use this to check the regularization effects"
      ]
    },
    {
      "cell_type": "code",
      "metadata": {
        "id": "XO_NO8BcALjh",
        "outputId": "8a5b36df-d1df-4787-ce53-42c5f28ddff4",
        "colab": {
          "base_uri": "https://localhost:8080/"
        }
      },
      "source": [
        "print('Model Input Tensors: ', model.input, end='\\n\\n')\n",
        "print('Layers - Network Configuration:', end='\\n\\n')\n",
        "for layer in model.layers:\n",
        "    print(layer.name, layer.trainable)\n",
        "    print('Layer Configuration:')\n",
        "    print(layer.get_config(), end='\\n{}\\n'.format('----'*10))\n",
        "print('Model Output Tensors: ', model.output)"
      ],
      "execution_count": 41,
      "outputs": [
        {
          "output_type": "stream",
          "name": "stdout",
          "text": [
            "Model Input Tensors:  KerasTensor(type_spec=TensorSpec(shape=(None, 784), dtype=tf.float32, name='dense_5_input'), name='dense_5_input', description=\"created by layer 'dense_5_input'\")\n",
            "\n",
            "Layers - Network Configuration:\n",
            "\n",
            "dense_5 True\n",
            "Layer Configuration:\n",
            "{'name': 'dense_5', 'trainable': True, 'batch_input_shape': (None, 784), 'dtype': 'float32', 'units': 512, 'activation': 'relu', 'use_bias': True, 'kernel_initializer': {'class_name': 'GlorotUniform', 'config': {'seed': 1234}}, 'bias_initializer': {'class_name': 'Zeros', 'config': {}}, 'kernel_regularizer': None, 'bias_regularizer': None, 'activity_regularizer': None, 'kernel_constraint': None, 'bias_constraint': None}\n",
            "----------------------------------------\n",
            "dense_6 True\n",
            "Layer Configuration:\n",
            "{'name': 'dense_6', 'trainable': True, 'dtype': 'float32', 'units': 256, 'activation': 'relu', 'use_bias': True, 'kernel_initializer': {'class_name': 'GlorotUniform', 'config': {'seed': 1234}}, 'bias_initializer': {'class_name': 'Zeros', 'config': {}}, 'kernel_regularizer': None, 'bias_regularizer': None, 'activity_regularizer': None, 'kernel_constraint': None, 'bias_constraint': None}\n",
            "----------------------------------------\n",
            "dense_7 True\n",
            "Layer Configuration:\n",
            "{'name': 'dense_7', 'trainable': True, 'dtype': 'float32', 'units': 32, 'activation': 'relu', 'use_bias': True, 'kernel_initializer': {'class_name': 'GlorotUniform', 'config': {'seed': 1234}}, 'bias_initializer': {'class_name': 'Zeros', 'config': {}}, 'kernel_regularizer': None, 'bias_regularizer': None, 'activity_regularizer': None, 'kernel_constraint': None, 'bias_constraint': None}\n",
            "----------------------------------------\n",
            "dense_8 True\n",
            "Layer Configuration:\n",
            "{'name': 'dense_8', 'trainable': True, 'dtype': 'float32', 'units': 16, 'activation': 'relu', 'use_bias': True, 'kernel_initializer': {'class_name': 'GlorotUniform', 'config': {'seed': 1234}}, 'bias_initializer': {'class_name': 'Zeros', 'config': {}}, 'kernel_regularizer': None, 'bias_regularizer': None, 'activity_regularizer': None, 'kernel_constraint': None, 'bias_constraint': None}\n",
            "----------------------------------------\n",
            "dense_9 True\n",
            "Layer Configuration:\n",
            "{'name': 'dense_9', 'trainable': True, 'dtype': 'float32', 'units': 10, 'activation': 'softmax', 'use_bias': True, 'kernel_initializer': {'class_name': 'GlorotUniform', 'config': {'seed': 1234}}, 'bias_initializer': {'class_name': 'Zeros', 'config': {}}, 'kernel_regularizer': None, 'bias_regularizer': None, 'activity_regularizer': None, 'kernel_constraint': None, 'bias_constraint': None}\n",
            "----------------------------------------\n",
            "Model Output Tensors:  KerasTensor(type_spec=TensorSpec(shape=(None, 10), dtype=tf.float32, name=None), name='dense_9/Softmax:0', description=\"created by layer 'dense_9'\")\n"
          ]
        }
      ]
    },
    {
      "cell_type": "code",
      "metadata": {
        "id": "rnGSpLfwJbhG",
        "outputId": "c9c13ed2-e093-4af9-9b60-5d490eef890b",
        "colab": {
          "base_uri": "https://localhost:8080/"
        }
      },
      "source": [
        "for layer in range(len(model.get_weights())):\n",
        "    print('Layer name:', model.weights[layer].name)\n",
        "    print('Layer weights shape:', model.weights[layer].shape)\n",
        "    print('Weight:', model.weights[layer], end = '\\n\\n')\n",
        "    #print(layer.get_config(), end='\\n{}\\n'.format('----'*10))\n",
        "print('Model Output Tensors: ', model.output)"
      ],
      "execution_count": 42,
      "outputs": [
        {
          "output_type": "stream",
          "name": "stdout",
          "text": [
            "Layer name: dense_5/kernel:0\n",
            "Layer weights shape: (784, 512)\n",
            "Weight: <tf.Variable 'dense_5/kernel:0' shape=(784, 512) dtype=float32, numpy=\n",
            "array([[ 0.03288732,  0.06419916, -0.04038084, ...,  0.0501196 ,\n",
            "        -0.01636986,  0.00267079],\n",
            "       [-0.05238051,  0.01568971,  0.06354105, ..., -0.03587913,\n",
            "        -0.03614935, -0.02498366],\n",
            "       [ 0.0055944 ,  0.01631762,  0.02852674, ...,  0.0222851 ,\n",
            "         0.02921189,  0.01434655],\n",
            "       ...,\n",
            "       [-0.00113957, -0.04627939, -0.04602685, ...,  0.02524721,\n",
            "         0.02275002,  0.03974579],\n",
            "       [-0.01206601,  0.0272265 ,  0.01920352, ...,  0.02996068,\n",
            "         0.00329956, -0.00560015],\n",
            "       [-0.05587083,  0.04224663, -0.04761815, ..., -0.03192603,\n",
            "         0.05160813,  0.03516154]], dtype=float32)>\n",
            "\n",
            "Layer name: dense_5/bias:0\n",
            "Layer weights shape: (512,)\n",
            "Weight: <tf.Variable 'dense_5/bias:0' shape=(512,) dtype=float32, numpy=\n",
            "array([ 1.89845078e-03, -1.82288862e-03,  6.35058945e-03,  1.86150067e-03,\n",
            "        4.48501995e-03,  1.56575232e-03, -1.71804533e-03, -1.33618026e-03,\n",
            "        1.11828768e-03,  9.30214394e-03,  3.05555202e-03,  9.31693416e-04,\n",
            "        5.60593512e-03,  4.08627605e-03,  1.90352870e-03, -6.69741072e-03,\n",
            "       -1.78945193e-03,  8.11786857e-03,  2.85413791e-03, -2.26286333e-03,\n",
            "       -1.42050826e-03,  3.44940257e-04, -4.42306185e-03,  6.59316138e-04,\n",
            "        2.17111409e-03,  1.24243519e-03,  1.08998716e-02,  4.72936966e-03,\n",
            "        1.17593929e-02,  3.01834149e-03,  5.47736709e-04,  1.70564410e-04,\n",
            "       -2.59703898e-04, -1.59924864e-04,  3.30517272e-04,  4.28662729e-03,\n",
            "       -4.54078848e-03, -1.46582676e-03,  1.39733031e-02,  2.93073407e-03,\n",
            "        1.35321142e-02,  9.68815293e-03,  7.61077600e-03,  5.87589387e-03,\n",
            "        2.46448023e-03,  2.87817582e-03, -3.52184102e-03, -2.34480179e-03,\n",
            "        8.94891936e-03,  2.54914514e-03,  9.16042551e-03, -9.33635165e-05,\n",
            "        4.35989257e-03,  1.39246890e-02,  3.47183063e-03, -1.77048217e-03,\n",
            "        1.52433873e-03, -4.20368975e-03,  4.56116768e-03, -2.19400332e-04,\n",
            "        9.64103825e-03,  5.47869364e-03,  2.42920266e-03, -3.46990186e-03,\n",
            "        8.47843476e-03, -4.71955910e-03, -6.34674169e-03,  1.96070271e-03,\n",
            "        3.93878156e-03, -1.60468114e-03,  1.82597747e-03, -1.62360794e-03,\n",
            "        6.40589558e-03, -1.84859766e-03,  2.79747066e-03, -6.77250384e-04,\n",
            "       -3.06131947e-03,  7.24076806e-03,  3.14956554e-03,  4.73400665e-04,\n",
            "        5.27230295e-05, -1.08782295e-03, -6.23521861e-03,  8.50833301e-03,\n",
            "        5.64971520e-03, -1.22972170e-03,  3.86588450e-04,  2.80947471e-03,\n",
            "        1.14906207e-02,  1.45818647e-02,  2.95023946e-03,  6.78914692e-03,\n",
            "        3.75023088e-03,  1.87174454e-02,  1.39731239e-03,  4.30832012e-03,\n",
            "       -3.49805527e-03,  2.33949944e-02,  2.29291545e-04, -1.79784908e-03,\n",
            "        2.18777778e-03, -1.29980396e-03, -3.60070192e-03,  1.05366576e-02,\n",
            "        1.61235061e-04,  3.28593748e-03,  8.53540841e-03, -3.46844597e-03,\n",
            "        6.08367054e-03, -3.79108917e-03,  3.89353093e-03,  1.29951187e-03,\n",
            "        5.60493395e-03,  4.35297005e-03,  2.50611873e-03,  3.40265734e-03,\n",
            "        6.69391453e-03, -5.84979462e-05, -7.79182534e-04,  3.87336756e-03,\n",
            "       -2.44337047e-04,  7.37069920e-03, -4.54570726e-03,  1.68843716e-02,\n",
            "       -5.09942649e-03,  2.22970312e-03, -6.26724621e-04, -6.36614219e-04,\n",
            "        3.44334287e-03,  7.41427112e-03, -3.76958307e-03,  2.23226333e-03,\n",
            "        4.69108764e-03,  9.49237437e-04,  2.34976341e-03, -1.12638611e-03,\n",
            "       -1.71060837e-03,  9.47073975e-04, -3.96090618e-04,  1.05367769e-02,\n",
            "        3.12543038e-04, -2.77978415e-03, -2.25004769e-04, -4.17481177e-04,\n",
            "        2.09905324e-04,  4.56847297e-03,  2.78868154e-03,  3.55724012e-03,\n",
            "        1.96931185e-03,  1.33425964e-03,  3.86644341e-03,  3.12551064e-03,\n",
            "        1.07475407e-02, -4.70509846e-03,  6.56142482e-04, -6.31515961e-03,\n",
            "        4.90361266e-03,  1.28985941e-02,  8.15627351e-03,  1.62783135e-02,\n",
            "        2.51357071e-03, -4.66444576e-03,  6.15623721e-04,  4.85891383e-03,\n",
            "        9.11393960e-04,  7.38058100e-03, -9.57802054e-04,  9.87138879e-03,\n",
            "        2.58988561e-03, -7.45941186e-04,  4.20559489e-04,  5.03031630e-03,\n",
            "        1.64063573e-02,  1.95562700e-03,  3.01297382e-03,  1.31150580e-03,\n",
            "       -1.30694045e-03, -3.75548028e-03, -3.65320640e-03,  3.46151693e-03,\n",
            "        9.31942742e-03,  1.20915622e-02,  5.90686628e-04, -4.40237578e-03,\n",
            "        1.59835815e-02,  2.64063594e-03,  1.07856293e-04,  5.59646403e-04,\n",
            "        1.45280489e-03, -6.59105077e-04, -6.91987108e-03,  1.32784629e-02,\n",
            "        4.23655612e-03,  1.20123755e-02,  2.45359540e-03,  1.33736688e-03,\n",
            "        5.31811407e-03,  8.32948741e-03, -3.83152184e-03, -8.01474729e-04,\n",
            "        1.45899120e-03,  3.21786059e-03,  4.52234410e-03,  1.59201375e-03,\n",
            "        6.99705631e-03,  8.68411735e-03,  1.00568985e-04, -2.82473722e-03,\n",
            "        1.22477859e-02, -1.04836999e-02,  2.17298628e-03, -5.97221497e-03,\n",
            "       -7.56060821e-04, -4.48529888e-03,  1.01213739e-03,  1.29741672e-02,\n",
            "       -3.30016832e-04,  4.52340674e-03, -1.99049478e-03, -9.05016961e-04,\n",
            "       -2.73961505e-05,  4.81096387e-04,  1.46834245e-02, -4.08163201e-03,\n",
            "        9.54978634e-04,  5.76770538e-03, -2.97026383e-03,  7.23325228e-03,\n",
            "       -9.96838789e-03, -1.31189870e-03,  6.73899951e-04, -3.50429816e-03,\n",
            "        5.64920204e-03,  1.18749158e-03, -7.23875419e-05,  1.02217123e-03,\n",
            "        4.32411907e-04, -2.59616086e-03,  1.19485019e-03,  2.35214620e-03,\n",
            "        4.42845374e-03,  5.68889501e-03, -2.90236762e-03,  1.02811456e-02,\n",
            "        5.19744214e-03,  1.17318872e-02,  1.20657613e-04,  9.97224706e-04,\n",
            "        2.95328652e-03, -4.95441863e-03,  2.80403788e-03,  1.36345308e-02,\n",
            "        7.20369583e-03,  6.97233807e-03,  7.99974147e-03,  9.29181406e-04,\n",
            "       -1.29524886e-03,  1.03063462e-02,  1.46083150e-03,  2.14431807e-03,\n",
            "       -2.96214363e-03,  3.05964681e-03,  1.78622119e-02, -2.01299065e-03,\n",
            "        1.65860620e-04, -2.88958033e-03,  2.49549048e-03,  4.50494420e-03,\n",
            "        4.55606874e-04,  4.85955679e-05,  1.57046132e-03,  1.54110405e-03,\n",
            "        4.72460501e-03,  2.81428266e-03,  3.79014923e-03,  9.02154541e-04,\n",
            "        9.98975523e-03,  1.17435325e-02,  2.20558979e-03,  1.39407720e-02,\n",
            "        7.61563797e-03,  1.02694277e-02,  2.71610194e-03,  1.16463769e-02,\n",
            "        1.06023243e-02,  6.23078132e-03,  9.41122044e-03, -3.15864710e-03,\n",
            "        1.37441112e-02,  6.03099074e-03,  5.20107802e-03,  1.09284825e-03,\n",
            "       -4.71895008e-04,  1.44789589e-03,  2.60048695e-02,  5.59450360e-03,\n",
            "       -2.83390051e-03,  3.52791767e-03, -8.92830940e-05,  1.10157067e-03,\n",
            "        2.46798694e-02,  3.64146690e-04, -1.63942750e-03,  2.00129356e-02,\n",
            "        8.46882910e-03, -3.92189343e-03,  1.34947589e-02,  1.71680830e-03,\n",
            "       -1.37517846e-03, -5.05887065e-03,  4.37211012e-04,  1.77127179e-02,\n",
            "        1.23384956e-03, -3.28548858e-03,  2.01612152e-03,  1.44616654e-03,\n",
            "        5.93319023e-03, -2.19422556e-03,  7.73180276e-03,  1.96062797e-03,\n",
            "        6.80815615e-03,  1.70330741e-02,  3.29886912e-03,  1.31253828e-03,\n",
            "       -2.51524919e-03, -4.02511051e-03,  5.00423089e-03,  4.43126680e-03,\n",
            "        2.95293564e-03,  4.08861507e-03,  4.23365273e-03, -1.03384873e-03,\n",
            "       -1.98367750e-03,  8.60584332e-05,  5.13824308e-03,  9.95669607e-03,\n",
            "        9.44507960e-03,  3.85107892e-03, -2.93125235e-03, -8.94314982e-03,\n",
            "        3.66271124e-03,  2.65624421e-03, -1.29036861e-03,  3.16289556e-03,\n",
            "        1.37307793e-02,  9.97813977e-03,  6.50188886e-03, -1.56764232e-04,\n",
            "       -4.57633927e-04,  1.71926431e-02,  1.00536551e-02,  5.40769566e-03,\n",
            "        7.18776649e-03, -2.31542112e-03, -2.97899335e-03,  1.69744908e-05,\n",
            "        8.43163952e-03,  4.27084946e-04, -3.76015599e-03, -8.83349101e-04,\n",
            "       -1.05658208e-03,  3.33020650e-03,  8.77097264e-05, -7.47827487e-03,\n",
            "        1.72636360e-02,  1.54993904e-03,  7.87635241e-03,  3.04260477e-03,\n",
            "        1.00382594e-02,  1.83653552e-03,  4.81855869e-03,  1.72926281e-02,\n",
            "       -4.15501557e-03,  3.28051450e-04,  1.48018484e-03, -2.46427400e-04,\n",
            "        1.69185107e-03, -1.65969323e-04,  5.45899803e-03, -2.02056463e-03,\n",
            "        6.21021353e-03, -1.13668584e-03,  1.02437567e-02,  6.71374612e-03,\n",
            "       -5.19055966e-03,  1.52813888e-03,  6.57306565e-03,  7.62113463e-03,\n",
            "        8.72232486e-05,  1.13993930e-02, -2.95750122e-03, -1.25127251e-03,\n",
            "        9.72926617e-04,  7.39062903e-03,  1.24851316e-02,  7.15589197e-03,\n",
            "       -3.51987057e-03, -9.59784538e-03,  1.60202384e-03,  8.98785982e-03,\n",
            "        9.16815270e-03,  2.91461567e-03,  3.83791397e-03,  1.14333490e-02,\n",
            "       -4.12355457e-03,  2.01420020e-03, -4.68943210e-04,  4.99949744e-03,\n",
            "       -7.91011262e-04,  9.36212833e-04, -2.03096424e-04,  2.21640780e-03,\n",
            "        3.28155956e-03, -5.96908713e-03,  4.15835949e-03,  1.18962163e-02,\n",
            "        7.70952320e-03, -2.06432352e-03,  1.73677574e-03, -5.69044333e-03,\n",
            "       -5.29512297e-04,  1.35684165e-03,  2.40847399e-03,  1.44083537e-02,\n",
            "        1.54734198e-02,  1.24795139e-02,  7.37333903e-03,  1.00120658e-03,\n",
            "        7.49099813e-03,  1.99193228e-03, -1.12821546e-03, -3.29482392e-03,\n",
            "        7.75906956e-03,  2.42742198e-03,  1.80939101e-02, -4.47453605e-03,\n",
            "       -2.78949551e-03,  9.26714763e-03, -8.38461972e-04,  8.94521922e-03,\n",
            "        6.02384238e-03,  6.87470846e-03,  3.28761013e-03,  6.12530624e-03,\n",
            "       -1.86735985e-03,  3.86095815e-03,  5.10715181e-03, -7.88340345e-04,\n",
            "        1.85898039e-02, -4.02831385e-04, -1.76281983e-03,  1.12688774e-02,\n",
            "        3.37594934e-03, -8.02372873e-04,  6.87169202e-04,  8.07287358e-03,\n",
            "       -6.63713133e-03,  8.82594753e-03,  7.25241436e-04,  5.10469731e-03,\n",
            "       -4.48676146e-04,  3.46057070e-03, -3.11630149e-03, -1.53441448e-03,\n",
            "        6.73268980e-04,  8.37022066e-03,  1.83651550e-03,  4.07340936e-04,\n",
            "        5.76170348e-03,  3.07350582e-03,  1.51202851e-03,  4.07143496e-03,\n",
            "        1.44233636e-03,  9.46844276e-03,  4.76200040e-03,  1.08653086e-03,\n",
            "       -4.35937021e-04, -1.97898457e-03,  1.46399473e-03, -3.82499816e-03,\n",
            "        4.95074270e-03, -1.27387582e-03,  4.49483516e-03,  5.86960465e-04,\n",
            "       -8.58684361e-04,  8.02193303e-03,  3.22587974e-03,  9.44832433e-03,\n",
            "       -3.85453203e-03,  1.12588480e-02, -3.25961551e-03,  5.42918104e-04,\n",
            "        1.72116458e-02, -2.29790225e-03,  2.48507527e-03,  2.90407077e-03,\n",
            "        4.67996718e-03,  4.01563337e-03,  1.22159375e-02,  8.69714562e-03,\n",
            "        4.23097191e-03,  4.80822055e-03,  2.46230746e-03, -4.12273919e-03,\n",
            "       -7.57594418e-04, -4.62910021e-03, -1.95407961e-03,  2.52883416e-03,\n",
            "        2.34764926e-02,  1.06007848e-02,  3.40105471e-04,  4.34275251e-03],\n",
            "      dtype=float32)>\n",
            "\n",
            "Layer name: dense_6/kernel:0\n",
            "Layer weights shape: (512, 256)\n",
            "Weight: <tf.Variable 'dense_6/kernel:0' shape=(512, 256) dtype=float32, numpy=\n",
            "array([[ 0.04247188,  0.0837666 , -0.05248749, ...,  0.02871147,\n",
            "         0.05073144,  0.04531113],\n",
            "       [ 0.01533224, -0.01437739,  0.05846503, ...,  0.06546482,\n",
            "        -0.01973605,  0.00328743],\n",
            "       [-0.065572  ,  0.02293373,  0.08680294, ...,  0.00933512,\n",
            "         0.00426296,  0.0515158 ],\n",
            "       ...,\n",
            "       [ 0.05649055,  0.02283636, -0.07324265, ..., -0.032511  ,\n",
            "         0.06440368,  0.0601575 ],\n",
            "       [ 0.05146697,  0.06325673, -0.02756848, ...,  0.05201884,\n",
            "         0.0230339 ,  0.01557716],\n",
            "       [-0.05676564,  0.02305536,  0.04419246, ..., -0.067917  ,\n",
            "         0.01159885, -0.06035128]], dtype=float32)>\n",
            "\n",
            "Layer name: dense_6/bias:0\n",
            "Layer weights shape: (256,)\n",
            "Weight: <tf.Variable 'dense_6/bias:0' shape=(256,) dtype=float32, numpy=\n",
            "array([-1.40684899e-02,  6.26474805e-03,  2.01900513e-03, -2.55439733e-03,\n",
            "       -5.99660736e-04, -1.12375221e-03,  5.25380834e-04,  1.40147181e-02,\n",
            "       -1.38291521e-02,  3.97856534e-03, -1.67092308e-03,  1.38457036e-02,\n",
            "        2.44096533e-04, -1.42675126e-02,  1.57315340e-02,  4.83978912e-03,\n",
            "       -1.04426499e-03,  6.20346866e-04, -9.71376430e-03,  1.96168292e-02,\n",
            "       -1.98441837e-02,  2.90022674e-03,  1.81444827e-02,  8.16564207e-05,\n",
            "       -8.88764916e-05,  2.30923314e-02, -5.52707002e-04, -5.29727759e-03,\n",
            "       -1.09804608e-02,  2.63891071e-02,  2.81452667e-02,  3.82313046e-05,\n",
            "       -4.78566810e-03, -2.02283915e-03,  1.85319427e-02, -8.79074261e-03,\n",
            "        1.45916536e-03, -8.93416535e-03, -6.42880565e-03, -3.33528616e-03,\n",
            "        6.51772227e-03, -1.79418530e-02,  4.28452448e-04,  1.01550296e-03,\n",
            "       -4.77276696e-03,  1.45253632e-03, -3.13081034e-03,  3.30184284e-03,\n",
            "        1.65672768e-02,  4.14512912e-03, -1.18707586e-03, -5.15212814e-05,\n",
            "       -6.09337352e-03, -6.50612696e-04,  2.39362800e-03,  5.48044499e-03,\n",
            "        1.02146370e-02,  1.09131513e-02,  1.21591707e-04, -5.06098382e-03,\n",
            "       -6.69038389e-03,  4.58674069e-04, -7.71352835e-03,  5.62621886e-03,\n",
            "        1.19264303e-02,  7.96304084e-03, -4.11844952e-03, -3.73753224e-04,\n",
            "       -2.40923278e-03, -1.84748729e-03,  8.81677668e-04, -2.70729186e-03,\n",
            "        2.78190281e-02,  1.41022466e-02, -1.36528746e-03,  1.30878505e-03,\n",
            "        7.75360083e-03,  9.74979345e-03, -1.58093579e-03,  1.00350378e-04,\n",
            "        3.03329509e-02,  2.03444567e-02,  1.29317287e-02,  6.51867827e-03,\n",
            "       -5.02345571e-03, -1.48111936e-02,  1.53337447e-02, -3.39343795e-03,\n",
            "        2.46676710e-02,  1.80280209e-02,  1.76141430e-02,  7.23102503e-03,\n",
            "        5.49461460e-03, -1.63819781e-03,  7.68355851e-04,  1.86433410e-03,\n",
            "       -5.54840174e-03,  2.64414703e-03, -3.55533953e-03,  2.43767281e-05,\n",
            "       -4.04534582e-03, -6.28543145e-04,  1.84545573e-02,  1.30961919e-02,\n",
            "        2.11794092e-03, -5.35273692e-03, -1.26267402e-02,  2.59379740e-04,\n",
            "        1.26416106e-02, -3.30910715e-03,  2.29239240e-02,  2.54817982e-03,\n",
            "        1.08026555e-02,  4.15220996e-03, -3.57599719e-03, -4.11845557e-03,\n",
            "       -8.66207585e-04,  1.05926255e-03,  1.58958770e-02,  7.06141023e-03,\n",
            "        3.00506456e-03,  8.64127465e-03, -6.24650856e-03, -2.47449661e-03,\n",
            "       -3.68641294e-03,  1.68121997e-02, -1.01680625e-02,  1.32227084e-02,\n",
            "        1.67351793e-02,  3.74859525e-03,  3.37033020e-03, -4.92441189e-03,\n",
            "       -2.59835069e-04,  1.80958956e-02,  1.69784371e-02, -1.42803369e-03,\n",
            "        6.44881558e-03,  5.30279614e-03,  3.73121165e-03,  1.04418192e-02,\n",
            "        2.34303574e-04,  3.25292051e-02,  4.18298459e-03,  9.45766224e-05,\n",
            "       -3.65132256e-03,  1.14696065e-03,  1.86839383e-02, -1.65182122e-04,\n",
            "       -5.77992701e-04,  1.46573712e-03, -5.32911252e-03,  8.82944185e-03,\n",
            "        2.38132640e-03, -1.74458046e-02,  1.32616963e-02,  4.10932320e-04,\n",
            "        4.26904438e-03,  8.95628333e-03,  1.54481092e-02,  3.49707156e-03,\n",
            "        7.27561885e-04,  6.48687501e-03, -1.08726267e-02,  2.52304487e-02,\n",
            "       -6.43696683e-03,  9.47519299e-03, -7.26316066e-04,  6.93286769e-03,\n",
            "        6.32353313e-03, -8.39675311e-04,  3.43365991e-03,  3.03622559e-02,\n",
            "        2.08414812e-03, -1.53139664e-03, -1.66839026e-02,  6.73640985e-03,\n",
            "       -4.65539237e-03, -1.20455422e-03, -1.13747909e-03,  6.75035687e-03,\n",
            "        6.27091480e-03,  6.12282706e-03, -1.23291975e-03,  1.16989454e-02,\n",
            "       -7.07875751e-03,  4.84380545e-03, -2.44219205e-04,  1.44642089e-02,\n",
            "       -6.81906147e-03,  2.32961916e-04, -9.78656695e-04,  2.35691108e-02,\n",
            "       -8.00748542e-03,  9.94193275e-03,  4.47800662e-03, -6.61206432e-03,\n",
            "        2.52315914e-03, -7.56103406e-03,  2.11738935e-03,  6.46194257e-03,\n",
            "       -5.06345415e-04,  1.47673115e-03, -1.66710820e-02,  6.44493382e-04,\n",
            "        1.07090045e-02,  1.09110689e-02,  5.74141415e-03,  1.54419895e-02,\n",
            "        1.63494213e-03,  1.09925810e-02,  1.12240752e-02, -3.90158151e-03,\n",
            "       -1.71604930e-04, -1.52890594e-03,  3.33656440e-04,  1.79807264e-02,\n",
            "        8.92119278e-05,  7.83619657e-03, -1.73639599e-03, -1.11492388e-02,\n",
            "        9.58878372e-04, -1.56607910e-03,  1.90925058e-02,  1.00963647e-02,\n",
            "        4.69502946e-03,  4.24033822e-03,  2.38878676e-03,  2.90385867e-03,\n",
            "       -1.05726440e-03, -2.72911275e-03,  5.71878161e-03,  1.20741166e-02,\n",
            "       -1.56741211e-04, -1.56028557e-03,  2.22018524e-03, -2.27882934e-04,\n",
            "       -1.00601884e-03, -4.34190501e-03,  1.73464566e-02, -5.96649293e-03,\n",
            "        9.38600395e-03,  3.13330651e-03, -4.05610679e-03, -4.69128788e-03,\n",
            "        3.19913495e-04, -1.37181289e-03, -1.56285032e-03, -1.09547233e-04,\n",
            "        8.17358377e-04,  7.76160043e-03,  8.58213054e-04,  5.38067939e-03,\n",
            "        1.76962819e-02,  1.76765341e-02,  3.53895463e-02, -2.09990842e-03],\n",
            "      dtype=float32)>\n",
            "\n",
            "Layer name: dense_7/kernel:0\n",
            "Layer weights shape: (256, 32)\n",
            "Weight: <tf.Variable 'dense_7/kernel:0' shape=(256, 32) dtype=float32, numpy=\n",
            "array([[ 0.06950933,  0.14135343, -0.08565506, ..., -0.01213251,\n",
            "         0.11351655,  0.13922292],\n",
            "       [-0.02270501,  0.14199378,  0.01147289, ..., -0.05902383,\n",
            "        -0.03630409, -0.07759586],\n",
            "       [-0.08428127, -0.04993449, -0.09422833, ..., -0.05205476,\n",
            "        -0.02726998,  0.12711471],\n",
            "       ...,\n",
            "       [-0.12367559, -0.05120027,  0.13348334, ...,  0.08231384,\n",
            "        -0.05927079, -0.0626272 ],\n",
            "       [ 0.07469418,  0.08149133, -0.06073131, ..., -0.01192378,\n",
            "        -0.01528107, -0.09747233],\n",
            "       [ 0.01416621, -0.13494012, -0.04991911, ...,  0.0979381 ,\n",
            "        -0.14415549,  0.14259012]], dtype=float32)>\n",
            "\n",
            "Layer name: dense_7/bias:0\n",
            "Layer weights shape: (32,)\n",
            "Weight: <tf.Variable 'dense_7/bias:0' shape=(32,) dtype=float32, numpy=\n",
            "array([-8.22683796e-03,  4.78217815e-04,  2.95065285e-04,  2.42151972e-02,\n",
            "        1.72013100e-02,  8.35106000e-02,  2.63098832e-02,  1.25120981e-02,\n",
            "       -7.77832838e-03,  2.35293899e-02,  1.99968256e-02,  2.11390885e-04,\n",
            "        5.55792227e-02,  7.48275453e-03,  6.46999180e-02, -1.54877035e-02,\n",
            "       -8.65842775e-03, -9.58529301e-03,  1.00364399e-04, -1.64015929e-03,\n",
            "       -2.42928062e-02,  8.96359701e-03,  5.85961454e-02,  4.40681819e-04,\n",
            "       -1.34135066e-02,  2.44039819e-02,  2.65153050e-02, -8.77746152e-06,\n",
            "        3.20551731e-02, -2.09005307e-02,  1.12745678e-03, -4.40771393e-02],\n",
            "      dtype=float32)>\n",
            "\n",
            "Layer name: dense_8/kernel:0\n",
            "Layer weights shape: (32, 16)\n",
            "Weight: <tf.Variable 'dense_8/kernel:0' shape=(32, 16) dtype=float32, numpy=\n",
            "array([[ 0.1706729 ,  0.33828676, -0.20983306,  0.23975566, -0.06396012,\n",
            "        -0.20890412, -0.02448472,  0.3441409 ,  0.3484738 , -0.19815932,\n",
            "        -0.00264065,  0.04241682, -0.15306771,  0.2024269 , -0.04934072,\n",
            "        -0.16474842],\n",
            "       [ 0.06426553, -0.0126465 ,  0.2324538 ,  0.27428192,  0.3257561 ,\n",
            "         0.17767704,  0.13689297, -0.1410314 ,  0.365872  ,  0.15406068,\n",
            "         0.10372119, -0.23704363,  0.15834816, -0.04150777,  0.3356373 ,\n",
            "         0.35801247],\n",
            "       [-0.07131343,  0.333157  ,  0.02639148, -0.11239824, -0.24934019,\n",
            "         0.17560098, -0.10328937, -0.00971585, -0.3098538 , -0.06544858,\n",
            "         0.34824485,  0.03067277,  0.02385875, -0.30478725, -0.00398794,\n",
            "         0.30033097],\n",
            "       [-0.02359578,  0.05172206,  0.23215225, -0.1555849 ,  0.28500074,\n",
            "         0.13502659, -0.14591414,  0.25622004,  0.33006325,  0.17698322,\n",
            "         0.21530356, -0.16594249, -0.01528787, -0.15479134, -0.10663927,\n",
            "        -0.20734367],\n",
            "       [-0.25728482, -0.17803487, -0.23030904,  0.492072  , -0.32204747,\n",
            "        -0.3180629 , -0.23769872, -0.28328127,  0.35153633,  0.09972519,\n",
            "         0.13541356, -0.050711  , -0.19267412,  0.28936893, -0.12391937,\n",
            "         0.10673754],\n",
            "       [-0.21062486,  0.34508023,  0.10146937, -0.27247548, -0.25843737,\n",
            "         0.34927362,  0.3406008 ,  0.04373467, -0.1894126 ,  0.39285597,\n",
            "         0.24380502,  0.12528798, -0.11744001, -0.13072982, -0.09281229,\n",
            "         0.26180503],\n",
            "       [-0.10754755,  0.14036512, -0.3450091 ,  0.27667058, -0.29070044,\n",
            "         0.16460352,  0.10768282,  0.17157224, -0.11704019, -0.16731465,\n",
            "        -0.12915534, -0.07573399, -0.07899487, -0.07969456,  0.09955113,\n",
            "         0.22505182],\n",
            "       [ 0.03672838, -0.23049386, -0.2459267 , -0.03716044,  0.32043934,\n",
            "         0.5145836 , -0.2200676 , -0.12065752, -0.46087965, -0.34669974,\n",
            "         0.22933963,  0.12091985,  0.22945757,  0.01891345, -0.04530163,\n",
            "        -0.1901181 ],\n",
            "       [-0.11091119,  0.04060087, -0.3077165 , -0.02030065,  0.10001819,\n",
            "        -0.33256462,  0.3669647 ,  0.04687294,  0.39682484,  0.21260966,\n",
            "        -0.04145687,  0.23048164, -0.34277612,  0.26408452,  0.3082957 ,\n",
            "         0.23024347],\n",
            "       [-0.21653809, -0.25019965, -0.01042776,  0.41918558, -0.11423571,\n",
            "         0.06010663, -0.2602473 ,  0.00369054,  0.02990886,  0.22918537,\n",
            "         0.19470541, -0.09582514,  0.17001338,  0.06892508,  0.1257931 ,\n",
            "         0.2675221 ],\n",
            "       [ 0.00630549,  0.2268969 , -0.24529968,  0.29316851, -0.1951036 ,\n",
            "        -0.20812283, -0.17101748,  0.06339848,  0.14488514,  0.05240222,\n",
            "        -0.18642804,  0.37295574, -0.04833363, -0.17781371, -0.05417613,\n",
            "        -0.05197113],\n",
            "       [-0.27772555, -0.18079318, -0.25631225,  0.2103666 , -0.06005624,\n",
            "        -0.20543934,  0.34676173, -0.3228378 ,  0.02067299,  0.27880204,\n",
            "        -0.25553536,  0.17829503,  0.0813279 ,  0.0738755 , -0.2672332 ,\n",
            "         0.32604724],\n",
            "       [-0.14259297,  0.00815306, -0.18431868, -0.29127878, -0.04280973,\n",
            "         0.09578104,  0.00175928,  0.28826603,  0.26260293, -0.00633161,\n",
            "        -0.3424824 ,  0.30818623, -0.04339066,  0.1849767 , -0.21799152,\n",
            "        -0.34836805],\n",
            "       [-0.02522229,  0.23385209, -0.3529973 ,  0.06198729,  0.0719237 ,\n",
            "         0.16621135,  0.19261731,  0.00161376,  0.17892054, -0.08618833,\n",
            "         0.22271314, -0.27912027, -0.11819843,  0.24514171,  0.2537309 ,\n",
            "        -0.34248325],\n",
            "       [-0.23023283, -0.07852779, -0.0394906 , -0.10043706, -0.15039355,\n",
            "         0.06589192,  0.20299672, -0.0502541 , -0.01914947,  0.08201636,\n",
            "         0.00276208, -0.22225586,  0.30283773, -0.33811757, -0.06176803,\n",
            "        -0.2650717 ],\n",
            "       [-0.05033333, -0.34366515, -0.14333658,  0.31684312,  0.05985034,\n",
            "        -0.12525953, -0.00374252, -0.02567829,  0.12363455,  0.02043066,\n",
            "         0.4043694 ,  0.04792703,  0.29709905,  0.14612387,  0.27702102,\n",
            "         0.1952328 ],\n",
            "       [ 0.05639203, -0.02549139,  0.23502986, -0.29941985, -0.32358816,\n",
            "        -0.3256203 , -0.2883104 , -0.13031435,  0.19829908, -0.12934537,\n",
            "        -0.37248674,  0.24229419,  0.03462254,  0.33887756, -0.18565513,\n",
            "        -0.07641444],\n",
            "       [ 0.36292836,  0.222016  ,  0.02682699, -0.24714808, -0.00331069,\n",
            "         0.4672857 , -0.37097904,  0.05068756, -0.18368615, -0.370163  ,\n",
            "        -0.04464034, -0.2620588 ,  0.26768404,  0.00968304, -0.05331575,\n",
            "        -0.26560602],\n",
            "       [ 0.21336134, -0.12950623, -0.2629859 , -0.19648911, -0.29728264,\n",
            "        -0.08918075,  0.28814128,  0.29347277,  0.06839041,  0.16487175,\n",
            "        -0.07946479,  0.08103605,  0.3389279 ,  0.11120123, -0.26776698,\n",
            "         0.08563749],\n",
            "       [ 0.18238474, -0.1257852 , -0.24129064, -0.11499324,  0.0890737 ,\n",
            "         0.199679  ,  0.09687997, -0.2942916 , -0.37368774,  0.10236382,\n",
            "         0.07516551, -0.01394448,  0.12673144,  0.20532176,  0.3356853 ,\n",
            "        -0.01092913],\n",
            "       [ 0.04906408,  0.29958004, -0.12593262, -0.18594676,  0.17663069,\n",
            "        -0.03554678, -0.31702605, -0.040853  , -0.20972435,  0.18513153,\n",
            "        -0.11046913,  0.12603052, -0.27538928, -0.31986225,  0.2895702 ,\n",
            "         0.3328899 ],\n",
            "       [ 0.36428556,  0.29667714,  0.15178894, -0.1324774 , -0.02057964,\n",
            "         0.23607117, -0.14141886, -0.08740914,  0.10780153,  0.03763582,\n",
            "         0.3498896 ,  0.12635586, -0.00562291, -0.14143842, -0.25887594,\n",
            "        -0.22940692],\n",
            "       [ 0.07454623,  0.40336344, -0.22077376, -0.28943706,  0.14667466,\n",
            "         0.19592127,  0.344741  , -0.13694733,  0.26645213,  0.46711275,\n",
            "        -0.11369726, -0.04878566,  0.303042  , -0.00631164, -0.02418961,\n",
            "         0.1730677 ],\n",
            "       [-0.23381457, -0.09785475,  0.08753204, -0.23687685, -0.10564181,\n",
            "        -0.17252673, -0.05812097, -0.29991707,  0.10844675, -0.11014652,\n",
            "        -0.1336825 , -0.14673722, -0.10056514,  0.24367422, -0.17585397,\n",
            "        -0.3012077 ],\n",
            "       [ 0.13190445,  0.13417555, -0.1519642 ,  0.1305299 , -0.13123748,\n",
            "        -0.3230267 ,  0.30974147,  0.168553  , -0.29714444, -0.09049965,\n",
            "         0.10982559,  0.12568782,  0.00732069, -0.08871488,  0.02544476,\n",
            "        -0.33092895],\n",
            "       [ 0.08889966,  0.2128304 ,  0.13865352,  0.30620623,  0.20544228,\n",
            "         0.11176853,  0.2758758 ,  0.288038  ,  0.16902815, -0.1572998 ,\n",
            "        -0.3447078 ,  0.43033776, -0.12813306, -0.14252336, -0.11698224,\n",
            "        -0.33322552],\n",
            "       [ 0.26380914, -0.10375104,  0.09404723,  0.19095153, -0.196595  ,\n",
            "         0.1744471 , -0.18220891, -0.3331448 ,  0.2898666 , -0.06268962,\n",
            "        -0.21719307, -0.06022377, -0.11558542, -0.00997595, -0.1208614 ,\n",
            "         0.19564028],\n",
            "       [ 0.3037364 ,  0.21474089, -0.29799768, -0.27146083,  0.02857951,\n",
            "         0.03242948, -0.23409669, -0.1315413 ,  0.33408797, -0.2985632 ,\n",
            "        -0.09035763,  0.22598234,  0.3524565 ,  0.06949005, -0.24658234,\n",
            "         0.21342942],\n",
            "       [ 0.0700938 ,  0.23467545, -0.3093661 ,  0.21308278,  0.29106295,\n",
            "         0.14914598, -0.15348563, -0.3021132 ,  0.42271432,  0.3991063 ,\n",
            "         0.33065474, -0.27262965,  0.00339383,  0.26022378,  0.27253297,\n",
            "        -0.29598215],\n",
            "       [-0.23529838,  0.19534191, -0.0855682 ,  0.33013496,  0.22426042,\n",
            "         0.14454745, -0.0315246 ,  0.19855958, -0.35020128, -0.2468693 ,\n",
            "         0.25257394, -0.03920794,  0.33908507,  0.27532914, -0.3158627 ,\n",
            "         0.04446708],\n",
            "       [-0.26821738, -0.17350428, -0.2901344 , -0.0528076 , -0.32113367,\n",
            "         0.33811104,  0.2339495 ,  0.12463262,  0.33286074, -0.09493387,\n",
            "        -0.24132425,  0.2894477 ,  0.11405206, -0.1443653 ,  0.24171753,\n",
            "        -0.2272767 ],\n",
            "       [ 0.21126144,  0.1781553 ,  0.15867049,  0.10203645,  0.17248902,\n",
            "        -0.29695842,  0.2715933 , -0.35253575,  0.17868368, -0.1536602 ,\n",
            "         0.14689867,  0.3054084 , -0.13238122,  0.28932583, -0.08586654,\n",
            "         0.02730576]], dtype=float32)>\n",
            "\n",
            "Layer name: dense_8/bias:0\n",
            "Layer weights shape: (16,)\n",
            "Weight: <tf.Variable 'dense_8/bias:0' shape=(16,) dtype=float32, numpy=\n",
            "array([-0.03089224, -0.02662988, -0.00067343,  0.06411781, -0.09680779,\n",
            "        0.15177134,  0.04695107, -0.00796767,  0.01791414,  0.12600198,\n",
            "       -0.0267856 ,  0.00085299, -0.02127542, -0.05445017, -0.04319612,\n",
            "       -0.06959829], dtype=float32)>\n",
            "\n",
            "Layer name: dense_9/kernel:0\n",
            "Layer weights shape: (16, 10)\n",
            "Weight: <tf.Variable 'dense_9/kernel:0' shape=(16, 10) dtype=float32, numpy=\n",
            "array([[ 0.22644715,  0.4360309 , -0.31023598,  0.25219655, -0.07778797,\n",
            "        -0.26369232, -0.11970209,  0.47489095,  0.6070959 , -0.2774756 ],\n",
            "       [ 0.08581234, -0.07751153, -0.33897746,  0.25057918, -0.07961907,\n",
            "        -0.0503605 , -0.05317616, -0.07291057,  0.5704557 ,  0.24997474],\n",
            "       [ 0.41257808,  0.2806303 ,  0.17167006, -0.18804203,  0.41859767,\n",
            "         0.12180093,  0.09936057, -0.28631338,  0.20036355, -0.02827514],\n",
            "       [ 0.5733171 ,  0.6534514 , -0.2050664 ,  0.53441817,  0.12835762,\n",
            "        -0.26554096, -0.15777504,  0.02796568, -0.34554723, -0.13841386],\n",
            "       [-0.42952847, -0.13228513,  0.5195384 , -0.00385608,  0.07427268,\n",
            "        -0.42350313, -0.05943665,  0.43465576,  0.03875498,  0.06195294],\n",
            "       [ 0.513891  , -0.3510486 ,  0.41951445,  0.02581296, -0.09253064,\n",
            "         0.42043963,  0.4844266 ,  0.00121624,  0.4718281 , -0.3348087 ],\n",
            "       [-0.0698509 , -0.26179698, -0.17334495, -0.27157673, -0.30404758,\n",
            "        -0.08424533, -0.40132403,  0.62169325, -0.37126237, -0.45875022],\n",
            "       [-0.2669952 , -0.3761386 ,  0.41870457,  0.08099825,  0.15013911,\n",
            "        -0.0863174 , -0.2672002 ,  0.35411862, -0.18710065,  0.14420813],\n",
            "       [-0.43756053,  0.41128236,  0.02038528, -0.5273715 , -0.3062805 ,\n",
            "         0.48922879,  0.1474436 ,  0.12907884, -0.20075405,  0.69831425],\n",
            "       [ 0.3303403 ,  0.05015041, -0.21338642, -0.13392693, -0.12248334,\n",
            "         0.5860374 , -0.34225222,  0.23120101, -0.4366914 ,  0.2306703 ],\n",
            "       [-0.35351327,  0.09744284,  0.19845764,  0.3120494 ,  0.06186976,\n",
            "        -0.25023556, -0.13098606, -0.32811448, -0.07663642, -0.15884627],\n",
            "       [ 0.16255672,  0.24124913, -0.01351909, -0.30363676, -0.34745497,\n",
            "        -0.17380215,  0.5386207 ,  0.47087288, -0.2813539 , -0.16264097],\n",
            "       [-0.4251992 , -0.41963696,  0.32665858, -0.00469587,  0.45495012,\n",
            "        -0.03581075, -0.03513936, -0.388181  , -0.13878585, -0.08058869],\n",
            "       [-0.4276723 , -0.01559107,  0.00234976, -0.48950198,  0.62259734,\n",
            "         0.05027068,  0.41940424,  0.05227763,  0.01090532,  0.40305832],\n",
            "       [-0.4800227 ,  0.3381729 ,  0.4088309 ,  0.31910157, -0.2976396 ,\n",
            "        -0.31468496, -0.0802426 ,  0.5141269 , -0.18333541,  0.09722306],\n",
            "       [-0.35840455, -0.03526301,  0.03030177,  0.408552  ,  0.20857745,\n",
            "        -0.21280134,  0.16271421,  0.10144115,  0.11573367,  0.44713134]],\n",
            "      dtype=float32)>\n",
            "\n",
            "Layer name: dense_9/bias:0\n",
            "Layer weights shape: (10,)\n",
            "Weight: <tf.Variable 'dense_9/bias:0' shape=(10,) dtype=float32, numpy=\n",
            "array([ 1.20804608e-01, -6.75649196e-02, -8.48548338e-02, -2.22057998e-02,\n",
            "        1.78982504e-02,  2.10362807e-01, -8.75234946e-06, -1.00788318e-01,\n",
            "        3.81718315e-02, -1.11815475e-01], dtype=float32)>\n",
            "\n",
            "Model Output Tensors:  KerasTensor(type_spec=TensorSpec(shape=(None, 10), dtype=tf.float32, name=None), name='dense_9/Softmax:0', description=\"created by layer 'dense_9'\")\n"
          ]
        }
      ]
    },
    {
      "cell_type": "markdown",
      "metadata": {
        "id": "fjhy5S84Hoo6"
      },
      "source": [
        "# Regularization\n",
        "\n",
        "Regularization is a technique that makes slight changes to the learning algorithm to reduce overfitting and generalize better. This in turn improves the performance of the model even on invisible data (test set)."
      ]
    },
    {
      "cell_type": "markdown",
      "metadata": {
        "id": "rRcmNqDpOdNr"
      },
      "source": [
        "### L1 Kernel/Bias regularization\n",
        "\n",
        "Applying [L1 regularization](https://keras.io/api/layers/regularizers/) to the kernel and bias values. New loss function: $$L(x,y) = L(x,y) + \\lambda\\sum_{j=0}^{M}|W_j|$$\n",
        "\n",
        "where:\n",
        "*   $\\lambda$ parameter controls the impact of regularization\n",
        "*   $W$ corresponds to the model weights\n",
        "\n"
      ]
    },
    {
      "cell_type": "code",
      "metadata": {
        "id": "1eQZGdWHOb89",
        "outputId": "5cb5dce0-3669-4279-cb1b-dcb08a08f5ea",
        "colab": {
          "base_uri": "https://localhost:8080/"
        }
      },
      "source": [
        "from tensorflow.keras import regularizers\n",
        "\n",
        "model_l1 = Sequential()\n",
        "model_l1.add(Dense(512, input_shape=(dims,), activation = \"relu\",kernel_initializer=initializer, kernel_regularizer=regularizers.l1(0.01), bias_regularizer=regularizers.l1(0.01)))\n",
        "model_l1.add(Dense(256, activation = \"relu\", kernel_initializer=initializer, kernel_regularizer=regularizers.l1(0.01), bias_regularizer=regularizers.l1(0.01)))\n",
        "model_l1.add(Dense(32, activation = \"relu\", kernel_initializer=initializer, kernel_regularizer=regularizers.l1(0.01), bias_regularizer=regularizers.l1(0.01)))\n",
        "model_l1.add(Dense(16, activation = \"relu\", kernel_initializer=initializer, kernel_regularizer=regularizers.l1(0.01), bias_regularizer=regularizers.l1(0.01)))\n",
        "model_l1.add(Dense(nb_classes, activation = \"softmax\", kernel_initializer=initializer))\n",
        "\n",
        "model_l1.compile(optimizer=SGD(lr=0.001), loss='categorical_crossentropy',metrics=['accuracy'])\n",
        "model_l1.compile(loss='categorical_crossentropy', optimizer=SGD(lr=0.001), \n",
        "              metrics=['accuracy'])\n",
        "model_l1.fit(X_train, Y_train, batch_size=128, \n",
        "                            epochs=20, verbose=2, validation_data=(X_val, Y_val))"
      ],
      "execution_count": 43,
      "outputs": [
        {
          "output_type": "stream",
          "name": "stderr",
          "text": [
            "/usr/local/lib/python3.7/dist-packages/keras/optimizer_v2/optimizer_v2.py:356: UserWarning: The `lr` argument is deprecated, use `learning_rate` instead.\n",
            "  \"The `lr` argument is deprecated, use `learning_rate` instead.\")\n"
          ]
        },
        {
          "output_type": "stream",
          "name": "stdout",
          "text": [
            "Epoch 1/20\n",
            "352/352 - 2s - loss: 194.3665 - accuracy: 0.2849 - val_loss: 185.0439 - val_accuracy: 0.3831\n",
            "Epoch 2/20\n",
            "352/352 - 2s - loss: 176.1348 - accuracy: 0.4115 - val_loss: 167.3177 - val_accuracy: 0.4243\n",
            "Epoch 3/20\n",
            "352/352 - 2s - loss: 158.8855 - accuracy: 0.4389 - val_loss: 150.5419 - val_accuracy: 0.4449\n",
            "Epoch 4/20\n",
            "352/352 - 2s - loss: 142.5757 - accuracy: 0.4552 - val_loss: 134.7050 - val_accuracy: 0.4532\n",
            "Epoch 5/20\n",
            "352/352 - 2s - loss: 127.2074 - accuracy: 0.4599 - val_loss: 119.8069 - val_accuracy: 0.4594\n",
            "Epoch 6/20\n",
            "352/352 - 1s - loss: 112.7731 - accuracy: 0.4640 - val_loss: 105.8406 - val_accuracy: 0.4644\n",
            "Epoch 7/20\n",
            "352/352 - 2s - loss: 99.2715 - accuracy: 0.4669 - val_loss: 92.8076 - val_accuracy: 0.4671\n",
            "Epoch 8/20\n",
            "352/352 - 2s - loss: 86.7020 - accuracy: 0.4697 - val_loss: 80.7074 - val_accuracy: 0.4669\n",
            "Epoch 9/20\n",
            "352/352 - 1s - loss: 75.0699 - accuracy: 0.4703 - val_loss: 69.5460 - val_accuracy: 0.4673\n",
            "Epoch 10/20\n",
            "352/352 - 2s - loss: 64.3757 - accuracy: 0.4695 - val_loss: 59.3245 - val_accuracy: 0.4626\n",
            "Epoch 11/20\n",
            "352/352 - 1s - loss: 54.6229 - accuracy: 0.4666 - val_loss: 50.0417 - val_accuracy: 0.4596\n",
            "Epoch 12/20\n",
            "352/352 - 2s - loss: 45.8047 - accuracy: 0.4624 - val_loss: 41.6930 - val_accuracy: 0.4546\n",
            "Epoch 13/20\n",
            "352/352 - 2s - loss: 37.9220 - accuracy: 0.4581 - val_loss: 34.2787 - val_accuracy: 0.4479\n",
            "Epoch 14/20\n",
            "352/352 - 2s - loss: 30.9735 - accuracy: 0.4516 - val_loss: 27.8010 - val_accuracy: 0.4414\n",
            "Epoch 15/20\n",
            "352/352 - 2s - loss: 24.9659 - accuracy: 0.4460 - val_loss: 22.2657 - val_accuracy: 0.4399\n",
            "Epoch 16/20\n",
            "352/352 - 2s - loss: 19.8976 - accuracy: 0.4436 - val_loss: 17.6663 - val_accuracy: 0.4380\n",
            "Epoch 17/20\n",
            "352/352 - 2s - loss: 15.7587 - accuracy: 0.4445 - val_loss: 13.9868 - val_accuracy: 0.4429\n",
            "Epoch 18/20\n",
            "352/352 - 1s - loss: 12.5217 - accuracy: 0.4570 - val_loss: 11.1862 - val_accuracy: 0.4657\n",
            "Epoch 19/20\n",
            "352/352 - 2s - loss: 10.1264 - accuracy: 0.4814 - val_loss: 9.1815 - val_accuracy: 0.4765\n",
            "Epoch 20/20\n",
            "352/352 - 2s - loss: 8.4523 - accuracy: 0.4813 - val_loss: 7.7831 - val_accuracy: 0.4634\n"
          ]
        },
        {
          "output_type": "execute_result",
          "data": {
            "text/plain": [
              "<keras.callbacks.History at 0x7f3869399890>"
            ]
          },
          "metadata": {},
          "execution_count": 43
        }
      ]
    },
    {
      "cell_type": "markdown",
      "metadata": {
        "id": "lwQdMmBMT9b9"
      },
      "source": [
        "### L2 Kernel/Bias regularization\n",
        "\n",
        "Applying [L2 regularization](https://keras.io/api/layers/regularizers/) to the kernel and bias values. New loss function: $$L(x,y) = L(x,y) + \\lambda\\sum_{j=0}^{M}W_j^2$$\n",
        "\n",
        "where:\n",
        "*   $\\lambda$ parameter controls the impact of regularization\n",
        "*   $W$ corresponds to the model weights\n",
        "\n"
      ]
    },
    {
      "cell_type": "code",
      "metadata": {
        "id": "SIpKz5f3T9cB",
        "outputId": "84c009b1-fcf7-4f90-a3a7-6a7168a9700a",
        "colab": {
          "base_uri": "https://localhost:8080/"
        }
      },
      "source": [
        "model_l2 = Sequential()\n",
        "model_l2.add(Dense(512, input_shape=(dims,), activation = \"relu\", kernel_initializer=initializer, kernel_regularizer=regularizers.l2(0.01), bias_regularizer=regularizers.l2(0.01)))\n",
        "model_l2.add(Dense(256, activation = \"relu\", kernel_initializer=initializer, kernel_regularizer=regularizers.l2(0.01), bias_regularizer=regularizers.l2(0.01)))\n",
        "model_l2.add(Dense(32, activation = \"relu\", kernel_initializer=initializer, kernel_regularizer=regularizers.l2(0.01), bias_regularizer=regularizers.l2(0.01)))\n",
        "model_l2.add(Dense(16, activation = \"relu\", kernel_initializer=initializer, kernel_regularizer=regularizers.l2(0.01), bias_regularizer=regularizers.l2(0.01)))\n",
        "model_l2.add(Dense(nb_classes, activation = \"softmax\"))\n",
        "\n",
        "model_l2.compile(optimizer=SGD(lr=0.001), loss='categorical_crossentropy',metrics=['accuracy'])\n",
        "model_l2.compile(loss='categorical_crossentropy', optimizer=SGD(lr=0.001), \n",
        "              metrics=['accuracy'])\n",
        "model_l2.fit(X_train, Y_train, batch_size=128, \n",
        "                            epochs=20, verbose=2, validation_data=(X_val, Y_val))"
      ],
      "execution_count": 44,
      "outputs": [
        {
          "output_type": "stream",
          "name": "stderr",
          "text": [
            "/usr/local/lib/python3.7/dist-packages/keras/optimizer_v2/optimizer_v2.py:356: UserWarning: The `lr` argument is deprecated, use `learning_rate` instead.\n",
            "  \"The `lr` argument is deprecated, use `learning_rate` instead.\")\n"
          ]
        },
        {
          "output_type": "stream",
          "name": "stdout",
          "text": [
            "Epoch 1/20\n",
            "352/352 - 3s - loss: 12.4422 - accuracy: 0.2996 - val_loss: 12.2227 - val_accuracy: 0.4080\n",
            "Epoch 2/20\n",
            "352/352 - 2s - loss: 12.0224 - accuracy: 0.4546 - val_loss: 11.8262 - val_accuracy: 0.4792\n",
            "Epoch 3/20\n",
            "352/352 - 2s - loss: 11.6351 - accuracy: 0.5148 - val_loss: 11.4478 - val_accuracy: 0.5715\n",
            "Epoch 4/20\n",
            "352/352 - 2s - loss: 11.2681 - accuracy: 0.6250 - val_loss: 11.1007 - val_accuracy: 0.6483\n",
            "Epoch 5/20\n",
            "352/352 - 2s - loss: 10.9534 - accuracy: 0.6595 - val_loss: 10.8208 - val_accuracy: 0.6629\n",
            "Epoch 6/20\n",
            "352/352 - 2s - loss: 10.7018 - accuracy: 0.6700 - val_loss: 10.5936 - val_accuracy: 0.6711\n",
            "Epoch 7/20\n",
            "352/352 - 2s - loss: 10.4926 - accuracy: 0.6822 - val_loss: 10.3994 - val_accuracy: 0.6867\n",
            "Epoch 8/20\n",
            "352/352 - 2s - loss: 10.3096 - accuracy: 0.6968 - val_loss: 10.2261 - val_accuracy: 0.6996\n",
            "Epoch 9/20\n",
            "352/352 - 2s - loss: 10.1430 - accuracy: 0.7096 - val_loss: 10.0663 - val_accuracy: 0.7111\n",
            "Epoch 10/20\n",
            "352/352 - 2s - loss: 9.9882 - accuracy: 0.7203 - val_loss: 9.9153 - val_accuracy: 0.7247\n",
            "Epoch 11/20\n",
            "352/352 - 2s - loss: 9.8412 - accuracy: 0.7301 - val_loss: 9.7715 - val_accuracy: 0.7355\n",
            "Epoch 12/20\n",
            "352/352 - 2s - loss: 9.7001 - accuracy: 0.7405 - val_loss: 9.6356 - val_accuracy: 0.7411\n",
            "Epoch 13/20\n",
            "352/352 - 2s - loss: 9.5639 - accuracy: 0.7482 - val_loss: 9.4995 - val_accuracy: 0.7487\n",
            "Epoch 14/20\n",
            "352/352 - 2s - loss: 9.4315 - accuracy: 0.7552 - val_loss: 9.3707 - val_accuracy: 0.7551\n",
            "Epoch 15/20\n",
            "352/352 - 2s - loss: 9.3025 - accuracy: 0.7610 - val_loss: 9.2425 - val_accuracy: 0.7585\n",
            "Epoch 16/20\n",
            "352/352 - 2s - loss: 9.1765 - accuracy: 0.7666 - val_loss: 9.1183 - val_accuracy: 0.7648\n",
            "Epoch 17/20\n",
            "352/352 - 1s - loss: 9.0529 - accuracy: 0.7718 - val_loss: 8.9961 - val_accuracy: 0.7704\n",
            "Epoch 18/20\n",
            "352/352 - 2s - loss: 8.9319 - accuracy: 0.7768 - val_loss: 8.8765 - val_accuracy: 0.7717\n",
            "Epoch 19/20\n",
            "352/352 - 2s - loss: 8.8131 - accuracy: 0.7809 - val_loss: 8.7579 - val_accuracy: 0.7768\n",
            "Epoch 20/20\n",
            "352/352 - 2s - loss: 8.6963 - accuracy: 0.7838 - val_loss: 8.6437 - val_accuracy: 0.7809\n"
          ]
        },
        {
          "output_type": "execute_result",
          "data": {
            "text/plain": [
              "<keras.callbacks.History at 0x7f38691910d0>"
            ]
          },
          "metadata": {},
          "execution_count": 44
        }
      ]
    },
    {
      "cell_type": "markdown",
      "metadata": {
        "id": "gNLRfzCJgSkW"
      },
      "source": [
        "### Weight Control\n",
        "\n",
        "We will analyze how the weights have changed by introducing the penalties in the model"
      ]
    },
    {
      "cell_type": "code",
      "metadata": {
        "id": "9q7KxyEQg62E",
        "outputId": "3d5d7028-827d-4221-9fde-c59c2c17de15",
        "colab": {
          "base_uri": "https://localhost:8080/"
        }
      },
      "source": [
        "print('Layers name:', model.weights[6].name)\n",
        "print('Layers kernel shape:', model.weights[6].shape)\n",
        "print('Kernel:', model.weights[6][0], end = '\\n\\n')\n",
        "print('Layers name:', model.weights[7].name)\n",
        "print('Layers kernel shape:', model.weights[7].shape)\n",
        "print('Kernel:', model.weights[7])"
      ],
      "execution_count": 45,
      "outputs": [
        {
          "output_type": "stream",
          "name": "stdout",
          "text": [
            "Layers name: dense_8/kernel:0\n",
            "Layers kernel shape: (32, 16)\n",
            "Kernel: tf.Tensor(\n",
            "[ 0.1706729   0.33828676 -0.20983306  0.23975566 -0.06396012 -0.20890412\n",
            " -0.02448472  0.3441409   0.3484738  -0.19815932 -0.00264065  0.04241682\n",
            " -0.15306771  0.2024269  -0.04934072 -0.16474842], shape=(16,), dtype=float32)\n",
            "\n",
            "Layers name: dense_8/bias:0\n",
            "Layers kernel shape: (16,)\n",
            "Kernel: <tf.Variable 'dense_8/bias:0' shape=(16,) dtype=float32, numpy=\n",
            "array([-0.03089224, -0.02662988, -0.00067343,  0.06411781, -0.09680779,\n",
            "        0.15177134,  0.04695107, -0.00796767,  0.01791414,  0.12600198,\n",
            "       -0.0267856 ,  0.00085299, -0.02127542, -0.05445017, -0.04319612,\n",
            "       -0.06959829], dtype=float32)>\n"
          ]
        }
      ]
    },
    {
      "cell_type": "code",
      "metadata": {
        "id": "aDLSB3TZT9cV",
        "outputId": "8decb3c9-0210-4995-a3df-67dfe925732d",
        "colab": {
          "base_uri": "https://localhost:8080/"
        }
      },
      "source": [
        "print('Layers name:', model_l2.weights[6].name)\n",
        "print('Layers kernel shape:', model_l2.weights[6].shape)\n",
        "print('Kernel:', model_l2.weights[6][0], end = '\\n\\n')\n",
        "print('Layers name:', model_l2.weights[7].name)\n",
        "print('Layers kernel shape:', model_l2.weights[7].shape)\n",
        "print('Kernel:', model_l2.weights[7])"
      ],
      "execution_count": 46,
      "outputs": [
        {
          "output_type": "stream",
          "name": "stdout",
          "text": [
            "Layers name: dense_18/kernel:0\n",
            "Layers kernel shape: (32, 16)\n",
            "Kernel: tf.Tensor(\n",
            "[ 0.14804125  0.29042384 -0.18226197  0.1758408  -0.04936292 -0.17692558\n",
            " -0.01929512  0.2996297   0.29312304 -0.17358461 -0.01360136  0.04342064\n",
            " -0.12140647  0.1900244  -0.0506347  -0.14109255], shape=(16,), dtype=float32)\n",
            "\n",
            "Layers name: dense_18/bias:0\n",
            "Layers kernel shape: (16,)\n",
            "Kernel: <tf.Variable 'dense_18/bias:0' shape=(16,) dtype=float32, numpy=\n",
            "array([-1.8425977e-02,  5.2768212e-02,  5.6730969e-05,  3.5121836e-02,\n",
            "        1.7354164e-02,  7.5505972e-02, -3.6220703e-02, -3.2940574e-03,\n",
            "       -5.2755732e-02,  5.3901445e-02, -2.4427719e-02,  3.3735432e-02,\n",
            "       -1.6804133e-02, -5.1381599e-02,  2.4080297e-02,  4.1840546e-02],\n",
            "      dtype=float32)>\n"
          ]
        }
      ]
    },
    {
      "cell_type": "code",
      "metadata": {
        "id": "2jIAi_Keg5cX",
        "outputId": "ea44c832-86da-40e7-8014-58cbb34bb83e",
        "colab": {
          "base_uri": "https://localhost:8080/"
        }
      },
      "source": [
        "print('Layers name:', model_l1.weights[6].name)\n",
        "print('Layers kernel shape:', model_l1.weights[6].shape)\n",
        "print('Kernel:', model_l1.weights[6][0], end = '\\n\\n')\n",
        "print('Layers name:', model_l1.weights[7].name)\n",
        "print('Layers kernel shape:', model_l1.weights[7].shape)\n",
        "print('Kernel:', model_l1.weights[7])"
      ],
      "execution_count": 47,
      "outputs": [
        {
          "output_type": "stream",
          "name": "stdout",
          "text": [
            "Layers name: dense_13/kernel:0\n",
            "Layers kernel shape: (32, 16)\n",
            "Kernel: tf.Tensor(\n",
            "[ 1.02006085e-01  2.77427763e-01 -1.39439702e-01  2.53699601e-01\n",
            " -6.17238833e-03 -1.42593503e-01  7.64032120e-06  2.72723049e-01\n",
            "  2.68889129e-01 -1.29749551e-01  8.22974073e-07  3.66491645e-06\n",
            " -1.14774384e-01  8.65984783e-02 -6.85067243e-06 -9.62442011e-02], shape=(16,), dtype=float32)\n",
            "\n",
            "Layers name: dense_13/bias:0\n",
            "Layers kernel shape: (16,)\n",
            "Kernel: <tf.Variable 'dense_13/bias:0' shape=(16,) dtype=float32, numpy=\n",
            "array([-2.04828621e-06,  2.09852333e-05,  7.94861080e-06,  1.05014466e-01,\n",
            "       -3.65000560e-05,  1.04609013e-01,  6.97902814e-02,  2.90683147e-06,\n",
            "        5.94242960e-02,  9.35668573e-02,  7.61114759e-03,  1.61256830e-04,\n",
            "        4.09884099e-03, -7.17126604e-05,  4.52472921e-03, -1.03492803e-05],\n",
            "      dtype=float32)>\n"
          ]
        }
      ]
    },
    {
      "cell_type": "code",
      "metadata": {
        "id": "qsIOsGYNU7K3",
        "outputId": "ecf66b8a-bb49-4158-f230-1e36564ab667",
        "colab": {
          "base_uri": "https://localhost:8080/"
        }
      },
      "source": [
        "print('Sum of the values of the weights without regularization:', sum(abs(model.weights[6][0])).numpy() + sum(abs(model.weights[7][0])).numpy())\n",
        "print('Sum of the values of the weights with regularization l2:', sum(abs(model_l2.weights[6][0])).numpy() + sum(abs(model_l2.weights[7][0])).numpy())\n",
        "print('Sum of the values of the weights with regularization l1:', sum(abs(model_l1.weights[6][0])).numpy() + sum(abs(model_l1.weights[7][0])).numpy())"
      ],
      "execution_count": 48,
      "outputs": [
        {
          "output_type": "stream",
          "name": "stdout",
          "text": [
            "Sum of the values of the weights without regularization: 2.7922049\n",
            "Sum of the values of the weights with regularization l2: 2.3870947\n",
            "Sum of the values of the weights with regularization l1: 1.8903388\n"
          ]
        }
      ]
    },
    {
      "cell_type": "markdown",
      "metadata": {
        "id": "18VBzM17Kuic"
      },
      "source": [
        "### Dropout\n",
        "\n",
        "[Dropout](https://keras.io/api/layers/regularization_layers/dropout/) is a technique where randomly selected neurons are ignored during training. They are “dropped-out” randomly. This means that their contribution to the activation of downstream neurons is temporally removed on the forward pass and any weight updates are not applied to the neuron on the backward pass\n",
        "\n",
        "\n",
        "<img src=\"https://miro.medium.com/proxy/1*iWQzxhVlvadk6VAJjsgXgg.png\" width=\"60%\" />\n",
        "\n",
        "\n"
      ]
    },
    {
      "cell_type": "markdown",
      "metadata": {
        "id": "Q8Cv8TZsanpv"
      },
      "source": [
        "```python\n",
        "from keras.layers import Dropout\n",
        "\n",
        "Dropout(rate, noise_shape=None, seed=None, **kwargs)\n",
        "```"
      ]
    },
    {
      "cell_type": "markdown",
      "metadata": {
        "id": "qtn-ho_4bANL"
      },
      "source": [
        "* `rate`: Float between 0 and 1. Fraction of the input units to drop\n",
        "\n",
        "* `noise_shape`: 1D integer tensor representing the shape of the binary dropout mask that will be multiplied with the input. For instance, if your inputs have shape (batch_size, timesteps, features) and you want the dropout mask to be the same for all timesteps, you can use noise_shape=(batch_size, 1, features)\n",
        "\n",
        "* `seed`: A Python integer to use as random seed."
      ]
    },
    {
      "cell_type": "code",
      "metadata": {
        "id": "p9FArszCLh6G",
        "outputId": "5adf43e0-8021-4e84-9b0a-49e39fc1de90",
        "colab": {
          "base_uri": "https://localhost:8080/"
        }
      },
      "source": [
        "initializer = tf.keras.initializers.GlorotUniform(seed=1234)\n",
        "\n",
        "\n",
        "model_d = Sequential()\n",
        "model_d.add(Dense(512, input_shape=(dims,), activation = \"relu\", kernel_initializer=initializer))\n",
        "model_d.add(Dense(256, activation = \"relu\", kernel_initializer=initializer))\n",
        "model_d.add(Dropout(0.2))\n",
        "model_d.add(Dense(32, activation = \"relu\", kernel_initializer=initializer))\n",
        "model_d.add(Dropout(0.2))\n",
        "model_d.add(Dense(16, activation = \"relu\", kernel_initializer=initializer))\n",
        "model_d.add(Dropout(0.2))\n",
        "model_d.add(Dense(nb_classes, activation = \"softmax\", kernel_initializer=initializer))\n",
        "\n",
        "\n",
        "model_d.compile(optimizer=SGD(lr=0.001), loss='categorical_crossentropy',metrics=['accuracy'])\n"
      ],
      "execution_count": 49,
      "outputs": [
        {
          "output_type": "stream",
          "name": "stderr",
          "text": [
            "/usr/local/lib/python3.7/dist-packages/keras/optimizer_v2/optimizer_v2.py:356: UserWarning: The `lr` argument is deprecated, use `learning_rate` instead.\n",
            "  \"The `lr` argument is deprecated, use `learning_rate` instead.\")\n"
          ]
        }
      ]
    },
    {
      "cell_type": "code",
      "metadata": {
        "id": "N5t8yqntMsZY",
        "outputId": "b701404f-2215-4576-9551-202ade945ca3",
        "colab": {
          "base_uri": "https://localhost:8080/"
        }
      },
      "source": [
        "n_epochs =20\n",
        "network_history = model_d.fit(X_train, Y_train, batch_size=128, \n",
        "                            epochs=n_epochs, verbose=2, validation_data=(X_val, Y_val))"
      ],
      "execution_count": 50,
      "outputs": [
        {
          "output_type": "stream",
          "name": "stdout",
          "text": [
            "Epoch 1/20\n",
            "352/352 - 2s - loss: 2.2579 - accuracy: 0.1688 - val_loss: 2.1569 - val_accuracy: 0.3686\n",
            "Epoch 2/20\n",
            "352/352 - 1s - loss: 2.1486 - accuracy: 0.2674 - val_loss: 2.0326 - val_accuracy: 0.4142\n",
            "Epoch 3/20\n",
            "352/352 - 1s - loss: 2.0484 - accuracy: 0.3187 - val_loss: 1.9145 - val_accuracy: 0.4390\n",
            "Epoch 4/20\n",
            "352/352 - 1s - loss: 1.9495 - accuracy: 0.3579 - val_loss: 1.7877 - val_accuracy: 0.4685\n",
            "Epoch 5/20\n",
            "352/352 - 1s - loss: 1.8486 - accuracy: 0.3850 - val_loss: 1.6645 - val_accuracy: 0.5012\n",
            "Epoch 6/20\n",
            "352/352 - 1s - loss: 1.7557 - accuracy: 0.4064 - val_loss: 1.5477 - val_accuracy: 0.5287\n",
            "Epoch 7/20\n",
            "352/352 - 1s - loss: 1.6661 - accuracy: 0.4297 - val_loss: 1.4454 - val_accuracy: 0.5494\n",
            "Epoch 8/20\n",
            "352/352 - 1s - loss: 1.5897 - accuracy: 0.4443 - val_loss: 1.3486 - val_accuracy: 0.5724\n",
            "Epoch 9/20\n",
            "352/352 - 1s - loss: 1.5185 - accuracy: 0.4613 - val_loss: 1.2650 - val_accuracy: 0.5989\n",
            "Epoch 10/20\n",
            "352/352 - 1s - loss: 1.4598 - accuracy: 0.4822 - val_loss: 1.1949 - val_accuracy: 0.6317\n",
            "Epoch 11/20\n",
            "352/352 - 1s - loss: 1.4013 - accuracy: 0.5007 - val_loss: 1.1335 - val_accuracy: 0.6509\n",
            "Epoch 12/20\n",
            "352/352 - 1s - loss: 1.3566 - accuracy: 0.5158 - val_loss: 1.0824 - val_accuracy: 0.6667\n",
            "Epoch 13/20\n",
            "352/352 - 1s - loss: 1.3183 - accuracy: 0.5285 - val_loss: 1.0373 - val_accuracy: 0.6781\n",
            "Epoch 14/20\n",
            "352/352 - 1s - loss: 1.2799 - accuracy: 0.5432 - val_loss: 0.9987 - val_accuracy: 0.6859\n",
            "Epoch 15/20\n",
            "352/352 - 1s - loss: 1.2391 - accuracy: 0.5570 - val_loss: 0.9621 - val_accuracy: 0.6917\n",
            "Epoch 16/20\n",
            "352/352 - 1s - loss: 1.2129 - accuracy: 0.5706 - val_loss: 0.9332 - val_accuracy: 0.7004\n",
            "Epoch 17/20\n",
            "352/352 - 1s - loss: 1.1819 - accuracy: 0.5767 - val_loss: 0.9085 - val_accuracy: 0.7044\n",
            "Epoch 18/20\n",
            "352/352 - 2s - loss: 1.1642 - accuracy: 0.5827 - val_loss: 0.8873 - val_accuracy: 0.7097\n",
            "Epoch 19/20\n",
            "352/352 - 1s - loss: 1.1384 - accuracy: 0.5902 - val_loss: 0.8677 - val_accuracy: 0.7139\n",
            "Epoch 20/20\n",
            "352/352 - 1s - loss: 1.1217 - accuracy: 0.5963 - val_loss: 0.8509 - val_accuracy: 0.7195\n"
          ]
        }
      ]
    },
    {
      "cell_type": "markdown",
      "metadata": {
        "id": "JiWhORpQWCV7"
      },
      "source": [
        "# Early Stopping"
      ]
    },
    {
      "cell_type": "markdown",
      "metadata": {
        "id": "-DIdGPsaVlNe"
      },
      "source": [
        "<pre>To avoid overfitting, we will first split out data to training set and test set and test out model on the test set.\n",
        "Next: we will use two of keras's callbacks <b>EarlyStopping</b> and <b>ModelCheckpoint</b></pre>\n",
        "\n",
        "See also https://keras.io/api/callbacks/\n",
        "---"
      ]
    },
    {
      "cell_type": "code",
      "metadata": {
        "id": "fcaPPk0mVoU4"
      },
      "source": [
        "from keras.callbacks import EarlyStopping, ModelCheckpoint"
      ],
      "execution_count": 51,
      "outputs": []
    },
    {
      "cell_type": "code",
      "metadata": {
        "id": "snjpMHYVVpn_",
        "outputId": "30ec525f-033f-4bd2-fc35-51506081a65b",
        "colab": {
          "base_uri": "https://localhost:8080/"
        }
      },
      "source": [
        "fBestModel = 'best_model.h5' \n",
        "early_stop = EarlyStopping(monitor='val_loss', patience=2, min_delta = 0.1, verbose=1) \n",
        "best_model = ModelCheckpoint(fBestModel, verbose=0, save_best_only=True)\n",
        "\n",
        "batch_size = 128\n",
        "\n",
        "model.fit(X_train, Y_train, validation_data = (X_val, Y_val), epochs=n_epochs, \n",
        "          batch_size=batch_size, verbose=True, callbacks=[best_model, early_stop]) "
      ],
      "execution_count": 54,
      "outputs": [
        {
          "output_type": "stream",
          "name": "stdout",
          "text": [
            "Epoch 1/20\n",
            "352/352 [==============================] - 2s 6ms/step - loss: 0.6003 - accuracy: 0.7989 - val_loss: 0.5977 - val_accuracy: 0.7987\n",
            "Epoch 2/20\n",
            "352/352 [==============================] - 2s 5ms/step - loss: 0.5895 - accuracy: 0.8040 - val_loss: 0.5885 - val_accuracy: 0.8003\n",
            "Epoch 3/20\n",
            "352/352 [==============================] - 2s 5ms/step - loss: 0.5796 - accuracy: 0.8067 - val_loss: 0.5810 - val_accuracy: 0.8031\n",
            "Epoch 00003: early stopping\n"
          ]
        },
        {
          "output_type": "execute_result",
          "data": {
            "text/plain": [
              "<keras.callbacks.History at 0x7f38691e0ad0>"
            ]
          },
          "metadata": {},
          "execution_count": 54
        }
      ]
    }
  ]
}