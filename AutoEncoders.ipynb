{
  "nbformat": 4,
  "nbformat_minor": 0,
  "metadata": {
    "colab": {
      "name": "Lab3 - AutoEncoders.ipynb",
      "provenance": [],
      "collapsed_sections": [],
      "include_colab_link": true
    },
    "language_info": {
      "codemirror_mode": {
        "name": "ipython",
        "version": 3
      },
      "file_extension": ".py",
      "mimetype": "text/x-python",
      "name": "python",
      "nbconvert_exporter": "python",
      "pygments_lexer": "ipython3",
      "version": "3.6.1"
    },
    "kernelspec": {
      "display_name": "Python 3",
      "language": "python",
      "name": "python3"
    }
  },
  "cells": [
    {
      "cell_type": "markdown",
      "metadata": {
        "id": "view-in-github",
        "colab_type": "text"
      },
      "source": [
        "<a href=\"https://colab.research.google.com/github/albertopolini/Advanced-Machine-Learning/blob/main/AutoEncoders.ipynb\" target=\"_parent\"><img src=\"https://colab.research.google.com/assets/colab-badge.svg\" alt=\"Open In Colab\"/></a>"
      ]
    },
    {
      "cell_type": "markdown",
      "metadata": {
        "id": "XTAoRHLSFAfI"
      },
      "source": [
        "# Unsupervised learning"
      ]
    },
    {
      "cell_type": "markdown",
      "metadata": {
        "id": "0d3xE3YoFAfK"
      },
      "source": [
        "### AutoEncoders  "
      ]
    },
    {
      "cell_type": "markdown",
      "metadata": {
        "id": "bwPj1MfQFAfN"
      },
      "source": [
        "An autoencoder, is an artificial neural network used for learning efficient codings. \n",
        "\n",
        "The aim of an autoencoder is to learn a representation (encoding) for a set of data, typically for the purpose of dimensionality reduction. "
      ]
    },
    {
      "cell_type": "markdown",
      "metadata": {
        "id": "JgO9gT9AFAfP"
      },
      "source": [
        "<img src=\"https://miro.medium.com/max/3148/1*44eDEuZBEsmG_TCAKRI3Kw@2x.png\" width=\"65%\">"
      ]
    },
    {
      "cell_type": "markdown",
      "metadata": {
        "id": "oEFmdrsMFAfQ"
      },
      "source": [
        "Unsupervised learning is a type of machine learning algorithm used to draw inferences from datasets consisting of input data without labeled responses. The most common unsupervised learning method is cluster analysis, which is used for exploratory data analysis to find hidden patterns or grouping in data."
      ]
    },
    {
      "cell_type": "markdown",
      "metadata": {
        "id": "LpbwgvNIFAfR"
      },
      "source": [
        "### Reference\n",
        "\n",
        "Based on [https://blog.keras.io/building-autoencoders-in-keras.html](https://blog.keras.io/building-autoencoders-in-keras.html)"
      ]
    },
    {
      "cell_type": "markdown",
      "metadata": {
        "id": "W_imnG4hFAfS"
      },
      "source": [
        "## Introducing _Keras Functional API_"
      ]
    },
    {
      "cell_type": "markdown",
      "metadata": {
        "id": "H8Stxu6tFAfU"
      },
      "source": [
        "The Keras functional API is the way to go for defining complex models, such as multi-output models, directed acyclic graphs, or models with shared layers."
      ]
    },
    {
      "cell_type": "markdown",
      "metadata": {
        "id": "qCQL8mUAFAfX"
      },
      "source": [
        "All the Functional API relies on the fact that each `keras.Layer` object is a _callable_ object!"
      ]
    },
    {
      "cell_type": "markdown",
      "metadata": {
        "id": "ShTSHOeWFAfZ"
      },
      "source": [
        "---"
      ]
    },
    {
      "cell_type": "code",
      "metadata": {
        "id": "HQflfDwiFAfa"
      },
      "source": [
        "from keras.layers import Input, Dense\n",
        "from keras.models import Model\n",
        "\n",
        "from keras.datasets import fashion_mnist\n",
        "\n",
        "import numpy as np"
      ],
      "execution_count": 1,
      "outputs": []
    },
    {
      "cell_type": "code",
      "metadata": {
        "scrolled": false,
        "id": "4VkvzvCyFAf7",
        "outputId": "770898d0-89d1-452a-b681-f2dc79fd51ae",
        "colab": {
          "base_uri": "https://localhost:8080/"
        }
      },
      "source": [
        "(x_train, _), (x_val, _) = fashion_mnist.load_data()\n",
        "\n",
        "x_train = x_train.astype('float32') / 255.\n",
        "x_val = x_val.astype('float32') / 255.\n",
        "x_train = x_train.reshape((len(x_train), np.prod(x_train.shape[1:])))\n",
        "x_val = x_val.reshape((len(x_val), np.prod(x_val.shape[1:])))"
      ],
      "execution_count": 2,
      "outputs": [
        {
          "output_type": "stream",
          "name": "stdout",
          "text": [
            "Downloading data from https://storage.googleapis.com/tensorflow/tf-keras-datasets/train-labels-idx1-ubyte.gz\n",
            "32768/29515 [=================================] - 0s 0us/step\n",
            "40960/29515 [=========================================] - 0s 0us/step\n",
            "Downloading data from https://storage.googleapis.com/tensorflow/tf-keras-datasets/train-images-idx3-ubyte.gz\n",
            "26427392/26421880 [==============================] - 0s 0us/step\n",
            "26435584/26421880 [==============================] - 0s 0us/step\n",
            "Downloading data from https://storage.googleapis.com/tensorflow/tf-keras-datasets/t10k-labels-idx1-ubyte.gz\n",
            "16384/5148 [===============================================================================================] - 0s 0us/step\n",
            "Downloading data from https://storage.googleapis.com/tensorflow/tf-keras-datasets/t10k-images-idx3-ubyte.gz\n",
            "4423680/4422102 [==============================] - 0s 0us/step\n",
            "4431872/4422102 [==============================] - 0s 0us/step\n"
          ]
        }
      ]
    },
    {
      "cell_type": "code",
      "metadata": {
        "id": "MO_9HPiuFAfk"
      },
      "source": [
        "# this is the size of our encoded representations\n",
        "encoding_dim = 32  # 32 floats -> compression of factor 24.5, assuming the input is 784 floats\n",
        "\n",
        "# this is our input placeholder\n",
        "input_img = Input(shape=(784,))\n",
        "# \"encoded\" is the encoded representation of the input\n",
        "encoded = Dense(encoding_dim, activation='relu')(input_img)\n",
        "\n",
        "# \"decoded\" is the lossy reconstruction of the input\n",
        "decoded = Dense(784, activation='linear')(encoded)\n",
        "\n",
        "# this model maps an input to its reconstruction\n",
        "autoencoder = Model(input_img, decoded)"
      ],
      "execution_count": 15,
      "outputs": []
    },
    {
      "cell_type": "markdown",
      "metadata": {
        "id": "0jUURRKmmRWX"
      },
      "source": [
        "The \"power\" of the functional api -- create **submodels**"
      ]
    },
    {
      "cell_type": "code",
      "metadata": {
        "id": "cium-stJFAfq"
      },
      "source": [
        "# this model maps an input to its encoded representation\n",
        "encoder = Model(input_img, encoded)"
      ],
      "execution_count": 16,
      "outputs": []
    },
    {
      "cell_type": "code",
      "metadata": {
        "id": "FuKc-HflFAfu"
      },
      "source": [
        "# create a placeholder for an encoded (32-dimensional) input\n",
        "encoded_input = Input(shape=(encoding_dim,))\n",
        "# retrieve the last layer of the autoencoder model\n",
        "decoder_layer = autoencoder.layers[-1]\n",
        "# create the decoder model\n",
        "decoder = Model(encoded_input, decoder_layer(encoded_input))"
      ],
      "execution_count": 23,
      "outputs": []
    },
    {
      "cell_type": "code",
      "metadata": {
        "id": "mz0fb__vFAfy",
        "outputId": "a02cd076-91f1-4d8b-bd3d-e4b51e4510f8",
        "colab": {
          "base_uri": "https://localhost:8080/"
        }
      },
      "source": [
        "autoencoder.compile(optimizer='adam', loss='mse', metrics = [\"mse\"])\n",
        "autoencoder.summary()"
      ],
      "execution_count": 24,
      "outputs": [
        {
          "output_type": "stream",
          "name": "stdout",
          "text": [
            "Model: \"model_3\"\n",
            "_________________________________________________________________\n",
            "Layer (type)                 Output Shape              Param #   \n",
            "=================================================================\n",
            "input_3 (InputLayer)         [(None, 784)]             0         \n",
            "_________________________________________________________________\n",
            "dense_2 (Dense)              (None, 32)                25120     \n",
            "_________________________________________________________________\n",
            "dense_3 (Dense)              (None, 784)               25872     \n",
            "=================================================================\n",
            "Total params: 50,992\n",
            "Trainable params: 50,992\n",
            "Non-trainable params: 0\n",
            "_________________________________________________________________\n"
          ]
        }
      ]
    },
    {
      "cell_type": "code",
      "metadata": {
        "id": "lioGPHbuFAf_",
        "outputId": "77c848ea-1dbc-4ff9-c207-fc9c4a503187",
        "colab": {
          "base_uri": "https://localhost:8080/"
        }
      },
      "source": [
        "#note: x_train, x_train :) \n",
        "autoencoder.fit(x_train, x_train,\n",
        "                epochs=100,\n",
        "                batch_size=2048,\n",
        "                shuffle=True,\n",
        "                validation_data=(x_val, x_val))"
      ],
      "execution_count": 25,
      "outputs": [
        {
          "output_type": "stream",
          "name": "stdout",
          "text": [
            "Epoch 1/100\n",
            "30/30 [==============================] - 1s 34ms/step - loss: 0.1287 - mse: 0.1287 - val_loss: 0.0687 - val_mse: 0.0687\n",
            "Epoch 2/100\n",
            "30/30 [==============================] - 1s 31ms/step - loss: 0.0572 - mse: 0.0572 - val_loss: 0.0468 - val_mse: 0.0468\n",
            "Epoch 3/100\n",
            "30/30 [==============================] - 1s 30ms/step - loss: 0.0424 - mse: 0.0424 - val_loss: 0.0383 - val_mse: 0.0383\n",
            "Epoch 4/100\n",
            "30/30 [==============================] - 1s 30ms/step - loss: 0.0360 - mse: 0.0360 - val_loss: 0.0335 - val_mse: 0.0335\n",
            "Epoch 5/100\n",
            "30/30 [==============================] - 1s 31ms/step - loss: 0.0319 - mse: 0.0319 - val_loss: 0.0301 - val_mse: 0.0301\n",
            "Epoch 6/100\n",
            "30/30 [==============================] - 1s 30ms/step - loss: 0.0291 - mse: 0.0291 - val_loss: 0.0279 - val_mse: 0.0279\n",
            "Epoch 7/100\n",
            "30/30 [==============================] - 1s 30ms/step - loss: 0.0272 - mse: 0.0272 - val_loss: 0.0262 - val_mse: 0.0262\n",
            "Epoch 8/100\n",
            "30/30 [==============================] - 1s 30ms/step - loss: 0.0257 - mse: 0.0257 - val_loss: 0.0250 - val_mse: 0.0250\n",
            "Epoch 9/100\n",
            "30/30 [==============================] - 1s 30ms/step - loss: 0.0245 - mse: 0.0245 - val_loss: 0.0239 - val_mse: 0.0239\n",
            "Epoch 10/100\n",
            "30/30 [==============================] - 1s 31ms/step - loss: 0.0236 - mse: 0.0236 - val_loss: 0.0232 - val_mse: 0.0232\n",
            "Epoch 11/100\n",
            "30/30 [==============================] - 1s 31ms/step - loss: 0.0230 - mse: 0.0230 - val_loss: 0.0227 - val_mse: 0.0227\n",
            "Epoch 12/100\n",
            "30/30 [==============================] - 1s 30ms/step - loss: 0.0225 - mse: 0.0225 - val_loss: 0.0222 - val_mse: 0.0222\n",
            "Epoch 13/100\n",
            "30/30 [==============================] - 1s 30ms/step - loss: 0.0219 - mse: 0.0219 - val_loss: 0.0215 - val_mse: 0.0215\n",
            "Epoch 14/100\n",
            "30/30 [==============================] - 1s 30ms/step - loss: 0.0211 - mse: 0.0211 - val_loss: 0.0208 - val_mse: 0.0208\n",
            "Epoch 15/100\n",
            "30/30 [==============================] - 1s 31ms/step - loss: 0.0206 - mse: 0.0206 - val_loss: 0.0204 - val_mse: 0.0204\n",
            "Epoch 16/100\n",
            "30/30 [==============================] - 1s 30ms/step - loss: 0.0202 - mse: 0.0202 - val_loss: 0.0201 - val_mse: 0.0201\n",
            "Epoch 17/100\n",
            "30/30 [==============================] - 1s 31ms/step - loss: 0.0199 - mse: 0.0199 - val_loss: 0.0198 - val_mse: 0.0198\n",
            "Epoch 18/100\n",
            "30/30 [==============================] - 1s 30ms/step - loss: 0.0196 - mse: 0.0196 - val_loss: 0.0195 - val_mse: 0.0195\n",
            "Epoch 19/100\n",
            "30/30 [==============================] - 1s 30ms/step - loss: 0.0193 - mse: 0.0193 - val_loss: 0.0191 - val_mse: 0.0191\n",
            "Epoch 20/100\n",
            "30/30 [==============================] - 1s 30ms/step - loss: 0.0190 - mse: 0.0190 - val_loss: 0.0189 - val_mse: 0.0189\n",
            "Epoch 21/100\n",
            "30/30 [==============================] - 1s 30ms/step - loss: 0.0187 - mse: 0.0187 - val_loss: 0.0186 - val_mse: 0.0186\n",
            "Epoch 22/100\n",
            "30/30 [==============================] - 1s 31ms/step - loss: 0.0186 - mse: 0.0186 - val_loss: 0.0185 - val_mse: 0.0185\n",
            "Epoch 23/100\n",
            "30/30 [==============================] - 1s 30ms/step - loss: 0.0184 - mse: 0.0184 - val_loss: 0.0183 - val_mse: 0.0183\n",
            "Epoch 24/100\n",
            "30/30 [==============================] - 1s 30ms/step - loss: 0.0182 - mse: 0.0182 - val_loss: 0.0181 - val_mse: 0.0181\n",
            "Epoch 25/100\n",
            "30/30 [==============================] - 1s 30ms/step - loss: 0.0181 - mse: 0.0181 - val_loss: 0.0180 - val_mse: 0.0180\n",
            "Epoch 26/100\n",
            "30/30 [==============================] - 1s 30ms/step - loss: 0.0179 - mse: 0.0179 - val_loss: 0.0179 - val_mse: 0.0179\n",
            "Epoch 27/100\n",
            "30/30 [==============================] - 1s 30ms/step - loss: 0.0178 - mse: 0.0178 - val_loss: 0.0178 - val_mse: 0.0178\n",
            "Epoch 28/100\n",
            "30/30 [==============================] - 1s 30ms/step - loss: 0.0177 - mse: 0.0177 - val_loss: 0.0177 - val_mse: 0.0177\n",
            "Epoch 29/100\n",
            "30/30 [==============================] - 1s 30ms/step - loss: 0.0176 - mse: 0.0176 - val_loss: 0.0176 - val_mse: 0.0176\n",
            "Epoch 30/100\n",
            "30/30 [==============================] - 1s 30ms/step - loss: 0.0175 - mse: 0.0175 - val_loss: 0.0175 - val_mse: 0.0175\n",
            "Epoch 31/100\n",
            "30/30 [==============================] - 1s 30ms/step - loss: 0.0174 - mse: 0.0174 - val_loss: 0.0174 - val_mse: 0.0174\n",
            "Epoch 32/100\n",
            "30/30 [==============================] - 1s 30ms/step - loss: 0.0174 - mse: 0.0174 - val_loss: 0.0173 - val_mse: 0.0173\n",
            "Epoch 33/100\n",
            "30/30 [==============================] - 1s 30ms/step - loss: 0.0173 - mse: 0.0173 - val_loss: 0.0172 - val_mse: 0.0172\n",
            "Epoch 34/100\n",
            "30/30 [==============================] - 1s 30ms/step - loss: 0.0172 - mse: 0.0172 - val_loss: 0.0172 - val_mse: 0.0172\n",
            "Epoch 35/100\n",
            "30/30 [==============================] - 1s 30ms/step - loss: 0.0172 - mse: 0.0172 - val_loss: 0.0171 - val_mse: 0.0171\n",
            "Epoch 36/100\n",
            "30/30 [==============================] - 1s 30ms/step - loss: 0.0171 - mse: 0.0171 - val_loss: 0.0171 - val_mse: 0.0171\n",
            "Epoch 37/100\n",
            "30/30 [==============================] - 1s 30ms/step - loss: 0.0171 - mse: 0.0171 - val_loss: 0.0170 - val_mse: 0.0170\n",
            "Epoch 38/100\n",
            "30/30 [==============================] - 1s 30ms/step - loss: 0.0170 - mse: 0.0170 - val_loss: 0.0170 - val_mse: 0.0170\n",
            "Epoch 39/100\n",
            "30/30 [==============================] - 1s 30ms/step - loss: 0.0170 - mse: 0.0170 - val_loss: 0.0170 - val_mse: 0.0170\n",
            "Epoch 40/100\n",
            "30/30 [==============================] - 1s 30ms/step - loss: 0.0169 - mse: 0.0169 - val_loss: 0.0169 - val_mse: 0.0169\n",
            "Epoch 41/100\n",
            "30/30 [==============================] - 1s 30ms/step - loss: 0.0169 - mse: 0.0169 - val_loss: 0.0169 - val_mse: 0.0169\n",
            "Epoch 42/100\n",
            "30/30 [==============================] - 1s 30ms/step - loss: 0.0169 - mse: 0.0169 - val_loss: 0.0169 - val_mse: 0.0169\n",
            "Epoch 43/100\n",
            "30/30 [==============================] - 1s 30ms/step - loss: 0.0169 - mse: 0.0169 - val_loss: 0.0169 - val_mse: 0.0169\n",
            "Epoch 44/100\n",
            "30/30 [==============================] - 1s 30ms/step - loss: 0.0168 - mse: 0.0168 - val_loss: 0.0168 - val_mse: 0.0168\n",
            "Epoch 45/100\n",
            "30/30 [==============================] - 1s 30ms/step - loss: 0.0168 - mse: 0.0168 - val_loss: 0.0168 - val_mse: 0.0168\n",
            "Epoch 46/100\n",
            "30/30 [==============================] - 1s 30ms/step - loss: 0.0168 - mse: 0.0168 - val_loss: 0.0168 - val_mse: 0.0168\n",
            "Epoch 47/100\n",
            "30/30 [==============================] - 1s 30ms/step - loss: 0.0167 - mse: 0.0167 - val_loss: 0.0167 - val_mse: 0.0167\n",
            "Epoch 48/100\n",
            "30/30 [==============================] - 1s 31ms/step - loss: 0.0167 - mse: 0.0167 - val_loss: 0.0166 - val_mse: 0.0166\n",
            "Epoch 49/100\n",
            "30/30 [==============================] - 1s 30ms/step - loss: 0.0166 - mse: 0.0166 - val_loss: 0.0165 - val_mse: 0.0165\n",
            "Epoch 50/100\n",
            "30/30 [==============================] - 1s 30ms/step - loss: 0.0165 - mse: 0.0165 - val_loss: 0.0165 - val_mse: 0.0165\n",
            "Epoch 51/100\n",
            "30/30 [==============================] - 1s 31ms/step - loss: 0.0165 - mse: 0.0165 - val_loss: 0.0164 - val_mse: 0.0164\n",
            "Epoch 52/100\n",
            "30/30 [==============================] - 1s 30ms/step - loss: 0.0164 - mse: 0.0164 - val_loss: 0.0164 - val_mse: 0.0164\n",
            "Epoch 53/100\n",
            "30/30 [==============================] - 1s 30ms/step - loss: 0.0164 - mse: 0.0164 - val_loss: 0.0164 - val_mse: 0.0164\n",
            "Epoch 54/100\n",
            "30/30 [==============================] - 1s 30ms/step - loss: 0.0164 - mse: 0.0164 - val_loss: 0.0164 - val_mse: 0.0164\n",
            "Epoch 55/100\n",
            "30/30 [==============================] - 1s 30ms/step - loss: 0.0164 - mse: 0.0164 - val_loss: 0.0164 - val_mse: 0.0164\n",
            "Epoch 56/100\n",
            "30/30 [==============================] - 1s 30ms/step - loss: 0.0164 - mse: 0.0164 - val_loss: 0.0164 - val_mse: 0.0164\n",
            "Epoch 57/100\n",
            "30/30 [==============================] - 1s 31ms/step - loss: 0.0164 - mse: 0.0164 - val_loss: 0.0164 - val_mse: 0.0164\n",
            "Epoch 58/100\n",
            "30/30 [==============================] - 1s 30ms/step - loss: 0.0164 - mse: 0.0164 - val_loss: 0.0164 - val_mse: 0.0164\n",
            "Epoch 59/100\n",
            "30/30 [==============================] - 1s 31ms/step - loss: 0.0163 - mse: 0.0163 - val_loss: 0.0164 - val_mse: 0.0164\n",
            "Epoch 60/100\n",
            "30/30 [==============================] - 1s 30ms/step - loss: 0.0163 - mse: 0.0163 - val_loss: 0.0164 - val_mse: 0.0164\n",
            "Epoch 61/100\n",
            "30/30 [==============================] - 1s 31ms/step - loss: 0.0163 - mse: 0.0163 - val_loss: 0.0163 - val_mse: 0.0163\n",
            "Epoch 62/100\n",
            "30/30 [==============================] - 1s 31ms/step - loss: 0.0163 - mse: 0.0163 - val_loss: 0.0163 - val_mse: 0.0163\n",
            "Epoch 63/100\n",
            "30/30 [==============================] - 1s 31ms/step - loss: 0.0163 - mse: 0.0163 - val_loss: 0.0163 - val_mse: 0.0163\n",
            "Epoch 64/100\n",
            "30/30 [==============================] - 1s 31ms/step - loss: 0.0163 - mse: 0.0163 - val_loss: 0.0163 - val_mse: 0.0163\n",
            "Epoch 65/100\n",
            "30/30 [==============================] - 1s 30ms/step - loss: 0.0163 - mse: 0.0163 - val_loss: 0.0163 - val_mse: 0.0163\n",
            "Epoch 66/100\n",
            "30/30 [==============================] - 1s 31ms/step - loss: 0.0163 - mse: 0.0163 - val_loss: 0.0163 - val_mse: 0.0163\n",
            "Epoch 67/100\n",
            "30/30 [==============================] - 1s 30ms/step - loss: 0.0163 - mse: 0.0163 - val_loss: 0.0163 - val_mse: 0.0163\n",
            "Epoch 68/100\n",
            "30/30 [==============================] - 1s 30ms/step - loss: 0.0163 - mse: 0.0163 - val_loss: 0.0163 - val_mse: 0.0163\n",
            "Epoch 69/100\n",
            "30/30 [==============================] - 1s 30ms/step - loss: 0.0163 - mse: 0.0163 - val_loss: 0.0163 - val_mse: 0.0163\n",
            "Epoch 70/100\n",
            "30/30 [==============================] - 1s 30ms/step - loss: 0.0163 - mse: 0.0163 - val_loss: 0.0163 - val_mse: 0.0163\n",
            "Epoch 71/100\n",
            "30/30 [==============================] - 1s 31ms/step - loss: 0.0163 - mse: 0.0163 - val_loss: 0.0163 - val_mse: 0.0163\n",
            "Epoch 72/100\n",
            "30/30 [==============================] - 1s 30ms/step - loss: 0.0163 - mse: 0.0163 - val_loss: 0.0163 - val_mse: 0.0163\n",
            "Epoch 73/100\n",
            "30/30 [==============================] - 1s 30ms/step - loss: 0.0163 - mse: 0.0163 - val_loss: 0.0163 - val_mse: 0.0163\n",
            "Epoch 74/100\n",
            "30/30 [==============================] - 1s 31ms/step - loss: 0.0163 - mse: 0.0163 - val_loss: 0.0163 - val_mse: 0.0163\n",
            "Epoch 75/100\n",
            "30/30 [==============================] - 1s 31ms/step - loss: 0.0163 - mse: 0.0163 - val_loss: 0.0163 - val_mse: 0.0163\n",
            "Epoch 76/100\n",
            "30/30 [==============================] - 1s 31ms/step - loss: 0.0163 - mse: 0.0163 - val_loss: 0.0163 - val_mse: 0.0163\n",
            "Epoch 77/100\n",
            "30/30 [==============================] - 1s 31ms/step - loss: 0.0163 - mse: 0.0163 - val_loss: 0.0163 - val_mse: 0.0163\n",
            "Epoch 78/100\n",
            "30/30 [==============================] - 1s 31ms/step - loss: 0.0163 - mse: 0.0163 - val_loss: 0.0163 - val_mse: 0.0163\n",
            "Epoch 79/100\n",
            "30/30 [==============================] - 1s 31ms/step - loss: 0.0163 - mse: 0.0163 - val_loss: 0.0163 - val_mse: 0.0163\n",
            "Epoch 80/100\n",
            "30/30 [==============================] - 1s 30ms/step - loss: 0.0162 - mse: 0.0162 - val_loss: 0.0163 - val_mse: 0.0163\n",
            "Epoch 81/100\n",
            "30/30 [==============================] - 1s 31ms/step - loss: 0.0163 - mse: 0.0163 - val_loss: 0.0163 - val_mse: 0.0163\n",
            "Epoch 82/100\n",
            "30/30 [==============================] - 1s 31ms/step - loss: 0.0162 - mse: 0.0162 - val_loss: 0.0163 - val_mse: 0.0163\n",
            "Epoch 83/100\n",
            "30/30 [==============================] - 1s 31ms/step - loss: 0.0162 - mse: 0.0162 - val_loss: 0.0163 - val_mse: 0.0163\n",
            "Epoch 84/100\n",
            "30/30 [==============================] - 1s 31ms/step - loss: 0.0162 - mse: 0.0162 - val_loss: 0.0163 - val_mse: 0.0163\n",
            "Epoch 85/100\n",
            "30/30 [==============================] - 1s 31ms/step - loss: 0.0163 - mse: 0.0163 - val_loss: 0.0163 - val_mse: 0.0163\n",
            "Epoch 86/100\n",
            "30/30 [==============================] - 1s 31ms/step - loss: 0.0163 - mse: 0.0163 - val_loss: 0.0162 - val_mse: 0.0162\n",
            "Epoch 87/100\n",
            "30/30 [==============================] - 1s 31ms/step - loss: 0.0162 - mse: 0.0162 - val_loss: 0.0162 - val_mse: 0.0162\n",
            "Epoch 88/100\n",
            "30/30 [==============================] - 1s 31ms/step - loss: 0.0161 - mse: 0.0161 - val_loss: 0.0161 - val_mse: 0.0161\n",
            "Epoch 89/100\n",
            "30/30 [==============================] - 1s 31ms/step - loss: 0.0161 - mse: 0.0161 - val_loss: 0.0161 - val_mse: 0.0161\n",
            "Epoch 90/100\n",
            "30/30 [==============================] - 1s 31ms/step - loss: 0.0160 - mse: 0.0160 - val_loss: 0.0161 - val_mse: 0.0161\n",
            "Epoch 91/100\n",
            "30/30 [==============================] - 1s 31ms/step - loss: 0.0160 - mse: 0.0160 - val_loss: 0.0160 - val_mse: 0.0160\n",
            "Epoch 92/100\n",
            "30/30 [==============================] - 1s 31ms/step - loss: 0.0160 - mse: 0.0160 - val_loss: 0.0160 - val_mse: 0.0160\n",
            "Epoch 93/100\n",
            "30/30 [==============================] - 1s 31ms/step - loss: 0.0160 - mse: 0.0160 - val_loss: 0.0160 - val_mse: 0.0160\n",
            "Epoch 94/100\n",
            "30/30 [==============================] - 1s 30ms/step - loss: 0.0160 - mse: 0.0160 - val_loss: 0.0160 - val_mse: 0.0160\n",
            "Epoch 95/100\n",
            "30/30 [==============================] - 1s 31ms/step - loss: 0.0160 - mse: 0.0160 - val_loss: 0.0160 - val_mse: 0.0160\n",
            "Epoch 96/100\n",
            "30/30 [==============================] - 1s 32ms/step - loss: 0.0160 - mse: 0.0160 - val_loss: 0.0161 - val_mse: 0.0161\n",
            "Epoch 97/100\n",
            "30/30 [==============================] - 1s 32ms/step - loss: 0.0160 - mse: 0.0160 - val_loss: 0.0160 - val_mse: 0.0160\n",
            "Epoch 98/100\n",
            "30/30 [==============================] - 1s 31ms/step - loss: 0.0160 - mse: 0.0160 - val_loss: 0.0160 - val_mse: 0.0160\n",
            "Epoch 99/100\n",
            "30/30 [==============================] - 1s 31ms/step - loss: 0.0160 - mse: 0.0160 - val_loss: 0.0160 - val_mse: 0.0160\n",
            "Epoch 100/100\n",
            "30/30 [==============================] - 1s 30ms/step - loss: 0.0160 - mse: 0.0160 - val_loss: 0.0160 - val_mse: 0.0160\n"
          ]
        },
        {
          "output_type": "execute_result",
          "data": {
            "text/plain": [
              "<keras.callbacks.History at 0x7fe0000db910>"
            ]
          },
          "metadata": {},
          "execution_count": 25
        }
      ]
    },
    {
      "cell_type": "markdown",
      "metadata": {
        "id": "OcTLD3BVFAgE"
      },
      "source": [
        "### Testing the Autoencoder "
      ]
    },
    {
      "cell_type": "code",
      "metadata": {
        "id": "KGpsXT4zFAgF"
      },
      "source": [
        "from matplotlib import pyplot as plt\n",
        "\n",
        "%matplotlib inline"
      ],
      "execution_count": 26,
      "outputs": []
    },
    {
      "cell_type": "code",
      "metadata": {
        "scrolled": true,
        "id": "0-4KUh3MFAgK",
        "outputId": "9d062acb-9c68-41bb-d4e3-2c4123a3fb10",
        "colab": {
          "base_uri": "https://localhost:8080/",
          "height": 248
        }
      },
      "source": [
        "x_selected = x_train\n",
        "encoded_imgs = encoder.predict(x_selected)\n",
        "decoded_imgs = decoder.predict(encoded_imgs)\n",
        "#alternative here?\n",
        "\n",
        "n = 10 \n",
        "plt.figure(figsize=(20, 4))\n",
        "for i in range(n):\n",
        "    # original\n",
        "    ax = plt.subplot(2, n, i + 1)\n",
        "    plt.imshow(x_selected[i].reshape(28, 28))\n",
        "    plt.gray()\n",
        "    ax.get_xaxis().set_visible(False)\n",
        "    ax.get_yaxis().set_visible(False)\n",
        "\n",
        "    # reconstruction\n",
        "    ax = plt.subplot(2, n, i + 1 + n)\n",
        "    plt.imshow(decoded_imgs[i].reshape(28, 28))\n",
        "    plt.gray()\n",
        "    ax.get_xaxis().set_visible(False)\n",
        "    ax.get_yaxis().set_visible(False)\n",
        "plt.show()"
      ],
      "execution_count": 27,
      "outputs": [
        {
          "output_type": "display_data",
          "data": {
            "image/png": "[encoded data removed]",
            "text/plain": [
              "<Figure size 1440x288 with 20 Axes>"
            ]
          },
          "metadata": {
            "needs_background": "light"
          }
        }
      ]
    },
    {
      "cell_type": "markdown",
      "metadata": {
        "id": "47U2coUrFAgQ"
      },
      "source": [
        "### Sample generation with Autoencoder "
      ]
    },
    {
      "cell_type": "markdown",
      "metadata": {
        "id": "Jp9of5bCFAgZ"
      },
      "source": [
        "One of the powerful tools of auto-encoders is using the encoder to generate meaningful representation from the feature vectors."
      ]
    },
    {
      "cell_type": "code",
      "metadata": {
        "id": "wuz91xMzFAgR",
        "outputId": "061f3b52-dc2f-479e-867d-0e9884bf826e",
        "colab": {
          "base_uri": "https://localhost:8080/",
          "height": 129
        }
      },
      "source": [
        "encoded_imgs = np.random.rand(10,32)\n",
        "decoded_imgs = decoder.predict(encoded_imgs)\n",
        "\n",
        "n = 10 \n",
        "plt.figure(figsize=(20, 4))\n",
        "for i in range(n):\n",
        "    # generation\n",
        "    ax = plt.subplot(2, n, i + 1 + n)\n",
        "    plt.imshow(decoded_imgs[i].reshape(28, 28))\n",
        "    plt.gray()\n",
        "    ax.get_xaxis().set_visible(False)\n",
        "    ax.get_yaxis().set_visible(False)\n",
        "plt.show()"
      ],
      "execution_count": 28,
      "outputs": [
        {
          "output_type": "display_data",
          "data": {
            "image/png": "[encoded data removed]",
            "text/plain": [
              "<Figure size 1440x288 with 10 Axes>"
            ]
          },
          "metadata": {
            "needs_background": "light"
          }
        }
      ]
    },
    {
      "cell_type": "markdown",
      "metadata": {
        "id": "o-xXTUV5ougG"
      },
      "source": [
        "## Your turn\n",
        "Now define an autoencoder with two different layers, where each layer has a compression of factor of (around) 3. Investigate the representation of the code layer and plot it for the first 10 validation examples. \n"
      ]
    }
  ]
}